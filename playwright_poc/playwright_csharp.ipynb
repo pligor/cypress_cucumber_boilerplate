{
 "cells": [
  {
   "cell_type": "markdown",
   "metadata": {},
   "source": [
    "# Instructions for setting up JupyterLab to execute C# code\n",
    "\n",
    "1. **Install .NET SDK:**\n",
    "   Ensure you have the .NET SDK installed on your machine. You can download it from the [.NET website](https://dotnet.microsoft.com/download).\n",
    "\n",
    "2. **Install .NET Interactive:**\n",
    "   Install the .NET Interactive tool using the following command:\n",
    "   ```bash\n",
    "   dotnet tool install --global Microsoft.dotnet-interactive\n",
    "   ```\n",
    "\n",
    "3. **Install JupyterLab:**\n",
    "   If you haven't installed JupyterLab yet, use the following command:\n",
    "   ```bash\n",
    "   pip install jupyterlab\n",
    "   ```\n",
    "\n",
    "4. **Install .NET Kernel for Jupyter:**\n",
    "   With the .NET Interactive tool installed, set up the .NET kernel by running:\n",
    "   ```bash\n",
    "   dotnet interactive jupyter install\n",
    "   ```\n",
    "\n",
    "5. **Launch JupyterLab:**\n",
    "   Start JupyterLab with the following command:\n",
    "   ```bash\n",
    "   jupyter lab\n",
    "   ```\n",
    "\n",
    "6. **Create a New C# Notebook:**\n",
    "   In the JupyterLab interface, you should see an option to create a new notebook using the C# (.NET Interactive) kernel.\n",
    "\n",
    "These steps will allow you to write and execute C# code within JupyterLab, benefiting from its modern features and interface.\n",
    "\n",
    "Is there anything specific you would like to explore or need further assistance with?"
   ]
  },
  {
   "cell_type": "markdown",
   "metadata": {},
   "source": [
    "C# Playwright API Reference:  \n",
    "https://playwright.dev/dotnet/docs/api/class-playwright"
   ]
  },
  {
   "cell_type": "code",
   "execution_count": 1,
   "metadata": {
    "vscode": {
     "languageId": "csharp"
    }
   },
   "outputs": [
    {
     "data": {
      "text/html": [
       "\r\n",
       "<div>\r\n",
       "    <div id='dotnet-interactive-this-cell-99779.Microsoft.DotNet.Interactive.Http.HttpPort' style='display: none'>\r\n",
       "        The below script needs to be able to find the current output cell; this is an easy method to get it.\r\n",
       "    </div>\r\n",
       "    <script type='text/javascript'>\r\n",
       "async function probeAddresses(probingAddresses) {\r\n",
       "    function timeout(ms, promise) {\r\n",
       "        return new Promise(function (resolve, reject) {\r\n",
       "            setTimeout(function () {\r\n",
       "                reject(new Error('timeout'))\r\n",
       "            }, ms)\r\n",
       "            promise.then(resolve, reject)\r\n",
       "        })\r\n",
       "    }\r\n",
       "\r\n",
       "    if (Array.isArray(probingAddresses)) {\r\n",
       "        for (let i = 0; i < probingAddresses.length; i++) {\r\n",
       "\r\n",
       "            let rootUrl = probingAddresses[i];\r\n",
       "\r\n",
       "            if (!rootUrl.endsWith('/')) {\r\n",
       "                rootUrl = `${rootUrl}/`;\r\n",
       "            }\r\n",
       "\r\n",
       "            try {\r\n",
       "                let response = await timeout(1000, fetch(`${rootUrl}discovery`, {\r\n",
       "                    method: 'POST',\r\n",
       "                    cache: 'no-cache',\r\n",
       "                    mode: 'cors',\r\n",
       "                    timeout: 1000,\r\n",
       "                    headers: {\r\n",
       "                        'Content-Type': 'text/plain'\r\n",
       "                    },\r\n",
       "                    body: probingAddresses[i]\r\n",
       "                }));\r\n",
       "\r\n",
       "                if (response.status == 200) {\r\n",
       "                    return rootUrl;\r\n",
       "                }\r\n",
       "            }\r\n",
       "            catch (e) { }\r\n",
       "        }\r\n",
       "    }\r\n",
       "}\r\n",
       "\r\n",
       "function loadDotnetInteractiveApi() {\r\n",
       "    probeAddresses([\"http://192.168.43.215:2064/\", \"http://127.0.0.1:2064/\"])\r\n",
       "        .then((root) => {\r\n",
       "        // use probing to find host url and api resources\r\n",
       "        // load interactive helpers and language services\r\n",
       "        let dotnetInteractiveRequire = require.config({\r\n",
       "        context: '99779.Microsoft.DotNet.Interactive.Http.HttpPort',\r\n",
       "                paths:\r\n",
       "            {\r\n",
       "                'dotnet-interactive': `${root}resources`\r\n",
       "                }\r\n",
       "        }) || require;\r\n",
       "\r\n",
       "            window.dotnetInteractiveRequire = dotnetInteractiveRequire;\r\n",
       "\r\n",
       "            window.configureRequireFromExtension = function(extensionName, extensionCacheBuster) {\r\n",
       "                let paths = {};\r\n",
       "                paths[extensionName] = `${root}extensions/${extensionName}/resources/`;\r\n",
       "                \r\n",
       "                let internalRequire = require.config({\r\n",
       "                    context: extensionCacheBuster,\r\n",
       "                    paths: paths,\r\n",
       "                    urlArgs: `cacheBuster=${extensionCacheBuster}`\r\n",
       "                    }) || require;\r\n",
       "\r\n",
       "                return internalRequire\r\n",
       "            };\r\n",
       "        \r\n",
       "            dotnetInteractiveRequire([\r\n",
       "                    'dotnet-interactive/dotnet-interactive'\r\n",
       "                ],\r\n",
       "                function (dotnet) {\r\n",
       "                    dotnet.init(window);\r\n",
       "                },\r\n",
       "                function (error) {\r\n",
       "                    console.log(error);\r\n",
       "                }\r\n",
       "            );\r\n",
       "        })\r\n",
       "        .catch(error => {console.log(error);});\r\n",
       "    }\r\n",
       "\r\n",
       "// ensure `require` is available globally\r\n",
       "if ((typeof(require) !==  typeof(Function)) || (typeof(require.config) !== typeof(Function))) {\r\n",
       "    let require_script = document.createElement('script');\r\n",
       "    require_script.setAttribute('src', 'https://cdnjs.cloudflare.com/ajax/libs/require.js/2.3.6/require.min.js');\r\n",
       "    require_script.setAttribute('type', 'text/javascript');\r\n",
       "    \r\n",
       "    \r\n",
       "    require_script.onload = function() {\r\n",
       "        loadDotnetInteractiveApi();\r\n",
       "    };\r\n",
       "\r\n",
       "    document.getElementsByTagName('head')[0].appendChild(require_script);\r\n",
       "}\r\n",
       "else {\r\n",
       "    loadDotnetInteractiveApi();\r\n",
       "}\r\n",
       "\r\n",
       "    </script>\r\n",
       "</div>"
      ]
     },
     "metadata": {},
     "output_type": "display_data"
    }
   ],
   "source": [
    "// brew install --cask powershell //to install powershell if necessary"
   ]
  },
  {
   "cell_type": "code",
   "execution_count": 2,
   "metadata": {
    "vscode": {
     "languageId": "csharp"
    }
   },
   "outputs": [
    {
     "data": {
      "text/html": [
       "<div><div></div><div></div><div><strong>Installed Packages</strong><ul><li><span>Microsoft.Playwright, 1.45.1</span></li></ul></div></div>"
      ]
     },
     "metadata": {},
     "output_type": "display_data"
    }
   ],
   "source": [
    "// equivalent to `dotnet add package Microsoft.Playwright` if you are developing a .NET project outside of Jupyter Notebooks\n",
    "// #r \"nuget: Microsoft.Playwright\"\n",
    "#r \"nuget: Microsoft.Playwright, 1.45.1\"\n",
    "//necessary for including the playwright like so: using Microsoft.Playwright;"
   ]
  },
  {
   "cell_type": "markdown",
   "metadata": {},
   "source": [
    "If you were not using Jupyter notebooks you would do:\n",
    "\n",
    "`dotnet add package Microsoft.Playwright`"
   ]
  },
  {
   "cell_type": "markdown",
   "metadata": {},
   "source": [
    "In command line you need to execute:\n",
    "\n",
    "    npm install -g playwright\n",
    "    playwright install\n",
    "\n",
    "second command installs the browsers which is what you really need"
   ]
  },
  {
   "cell_type": "code",
   "execution_count": 3,
   "metadata": {
    "vscode": {
     "languageId": "csharp"
    }
   },
   "outputs": [],
   "source": [
    "using Microsoft.Playwright;\n",
    "\n",
    "//necessary for using the assertions like so: Expect(page).NotNull();\n",
    "using static Microsoft.Playwright.Assertions; // Import static members\n",
    "\n",
    "using System.Linq;\n",
    "using System.Text.RegularExpressions;\n",
    "using System.IO;"
   ]
  },
  {
   "cell_type": "code",
   "execution_count": 4,
   "metadata": {
    "vscode": {
     "languageId": "csharp"
    }
   },
   "outputs": [],
   "source": [
    "void assert(bool condition, string message = \"Assertion failed\") {\n",
    "  // Because this does not work in System.Diagnostics.Debug.Assert(15 == 15);\n",
    "  if (!condition)\n",
    "  {\n",
    "    throw new Exception(message);\n",
    "  }\n",
    "}"
   ]
  },
  {
   "cell_type": "code",
   "execution_count": 5,
   "metadata": {
    "vscode": {
     "languageId": "csharp"
    }
   },
   "outputs": [],
   "source": [
    "//Hello world\n",
    "/*\n",
    "using System.Threading;\n",
    "var playwright = await Playwright.CreateAsync();\n",
    "var browser = await playwright.Chromium.LaunchAsync(new BrowserTypeLaunchOptions { Headless = false });\n",
    "var page = await browser.NewPageAsync();\n",
    "await page.GotoAsync(\"https://example.com\");\n",
    "assert(await page.TitleAsync() == \"Example Domain\");\n",
    "Thread.Sleep(2000);\n",
    "await browser.CloseAsync();\n",
    "//*/"
   ]
  },
  {
   "cell_type": "code",
   "execution_count": 6,
   "metadata": {
    "vscode": {
     "languageId": "csharp"
    }
   },
   "outputs": [],
   "source": [
    "// it seems that in C# there is no Sync version of the Playwright API and it is in general discouraged"
   ]
  },
  {
   "cell_type": "markdown",
   "metadata": {},
   "source": [
    "# Playwright list\n",
    "- Browser > Context > Page\n",
    "- Visit url\n",
    "- find by text\n",
    "- find by css\n",
    "- find by xpath\n",
    "- find multiple elements and count them\n",
    "- find inside an element\n",
    "- visit parent\n",
    "- visit ancestor\n",
    "- Reload page\n",
    "- get text\n",
    "- clicking\n",
    "- typing\n",
    "- mouse hover\n",
    "- right clicking with context menu\n",
    "- double clicking\n",
    "- drag n drop\n",
    "- pressing tab key\n",
    "- pressing enter key\n",
    "- submitting a form\n",
    "- selecting native dropdown\n",
    "- getting attribute\n",
    "- setting attribute\n",
    "- dismiss alert\n",
    "- confirm alert press ok\n",
    "- confirm alert press cancel\n",
    "- insert for prompt alert\n",
    "- visit an iframe\n",
    "- visit a nested iframe\n",
    "- open new tab\n",
    "- visit new tab\n",
    "- open new window\n",
    "- visit new window  \n",
    "- upload a file\n",
    "- download a file\n",
    "- set browser geolocation\n",
    "- Go back/forward on pages\n",
    "- Cookies\n",
    "\n",
    "============\n",
    "\n",
    "- return to main frame <--- Selenium only\n",
    "- return to main window <--- Selenium only\n",
    "- visit original tab <-- Selenium only"
   ]
  },
  {
   "cell_type": "markdown",
   "metadata": {},
   "source": [
    "# Configuring Viewport Size and Global Timeout"
   ]
  },
  {
   "cell_type": "code",
   "execution_count": 7,
   "metadata": {
    "vscode": {
     "languageId": "csharp"
    }
   },
   "outputs": [],
   "source": [
    "var playwright = await Playwright.CreateAsync();\n",
    "var browser = await playwright.Chromium.LaunchAsync(new BrowserTypeLaunchOptions { Headless = false });\n",
    "\n",
    "//better exploit context than launching a new page directly\n",
    "// var page = await browser.NewPageAsync();\n",
    "\n",
    "var context = await browser.NewContextAsync(new BrowserNewContextOptions { \n",
    "  ViewportSize = new ViewportSize { Width = 1920, Height = 1080 } \n",
    "});\n",
    "\n",
    "context.SetDefaultTimeout(5000);\n",
    "\n",
    "var page = await context.NewPageAsync();\n",
    "\n",
    "// Console.WriteLine(await page.TitleAsync());"
   ]
  },
  {
   "cell_type": "code",
   "execution_count": 8,
   "metadata": {
    "vscode": {
     "languageId": "csharp"
    }
   },
   "outputs": [],
   "source": [
    "// await browser.CloseAsync();"
   ]
  },
  {
   "cell_type": "markdown",
   "metadata": {},
   "source": [
    "# I visit a url"
   ]
  },
  {
   "cell_type": "code",
   "execution_count": 9,
   "metadata": {
    "vscode": {
     "languageId": "csharp"
    }
   },
   "outputs": [],
   "source": [
    "await page.GotoAsync(\"https://qaplayground.dev/apps/dynamic-table/\");"
   ]
  },
  {
   "cell_type": "markdown",
   "metadata": {},
   "source": [
    "# I find elements by text and get their text\n",
    "Also compare innerText with text_content"
   ]
  },
  {
   "cell_type": "code",
   "execution_count": 10,
   "metadata": {
    "vscode": {
     "languageId": "csharp"
    }
   },
   "outputs": [],
   "source": [
    "var loc = page.GetByText(\"superhero\", new() { Exact = false });\n",
    "var inner_text = await loc.InnerTextAsync(); //how it is rendered on the website\n",
    "var txt = await loc.TextContentAsync(); //how it is rendered on the website\n",
    "assert(txt != inner_text);\n",
    "var column_name = await page.GetByText(\"superhero\", new() { Exact = false }).InnerTextAsync();\n",
    "assert(column_name == \"SUPERHERO\");"
   ]
  },
  {
   "cell_type": "markdown",
   "metadata": {},
   "source": [
    "# I find elements by CSS selector"
   ]
  },
  {
   "cell_type": "code",
   "execution_count": 11,
   "metadata": {
    "vscode": {
     "languageId": "csharp"
    }
   },
   "outputs": [],
   "source": [
    "var top_title = page.Locator(\"a[aria-label='full courses']\");\n",
    "await Expect(top_title).ToHaveTextAsync(\"Apps\");"
   ]
  },
  {
   "cell_type": "markdown",
   "metadata": {},
   "source": [
    "# I find elements by XPath selector"
   ]
  },
  {
   "cell_type": "code",
   "execution_count": 12,
   "metadata": {
    "vscode": {
     "languageId": "csharp"
    }
   },
   "outputs": [],
   "source": [
    "var top_right_title = page.Locator(\"//*[contains(text(), 'View Test Suite')]\");\n",
    "await Expect(top_right_title).ToBeVisibleAsync();"
   ]
  },
  {
   "cell_type": "markdown",
   "metadata": {},
   "source": [
    "# I find multiple elements and count them"
   ]
  },
  {
   "cell_type": "code",
   "execution_count": 13,
   "metadata": {
    "vscode": {
     "languageId": "csharp"
    }
   },
   "outputs": [],
   "source": [
    "var elems = page.Locator(\"tr > td\");\n",
    "assert(await elems.CountAsync() == 24);\n",
    "await Expect(elems).ToHaveCountAsync(24);"
   ]
  },
  {
   "cell_type": "markdown",
   "metadata": {},
   "source": [
    "# I find an element inside an element"
   ]
  },
  {
   "cell_type": "code",
   "execution_count": 14,
   "metadata": {
    "vscode": {
     "languageId": "csharp"
    }
   },
   "outputs": [],
   "source": [
    "var first_row = page.Locator(\"thead > tr:nth-of-type(1)\");\n",
    "assert(await first_row.CountAsync() == 1);\n",
    "var second_header = first_row.Locator(\"th:nth-of-type(2)\");\n",
    "await Expect(second_header).ToContainTextAsync(\"Status\");"
   ]
  },
  {
   "cell_type": "markdown",
   "metadata": {},
   "source": [
    "# I get parent of element"
   ]
  },
  {
   "cell_type": "code",
   "execution_count": 15,
   "metadata": {
    "vscode": {
     "languageId": "csharp"
    }
   },
   "outputs": [],
   "source": [
    "// var superhero = page.GetByText(\"Spider-Man\", new PageGetByTextOptions { Exact = true });\n",
    "var superhero = page.GetByText(\"Spider-Man\", new() { Exact = true }); //here type is inferred\n",
    "assert(await superhero.IsVisibleAsync());\n",
    "var parent = superhero.Locator(\"..\"); //using xpath\n",
    "var email = parent.GetByText(\"@avengers.com\");\n",
    "await Expect(email).ToHaveTextAsync(\"spider-man@avengers.com\");"
   ]
  },
  {
   "cell_type": "markdown",
   "metadata": {},
   "source": [
    "# I get ancestor of element"
   ]
  },
  {
   "cell_type": "code",
   "execution_count": 16,
   "metadata": {
    "vscode": {
     "languageId": "csharp"
    }
   },
   "outputs": [],
   "source": [
    "var spiderman = page.GetByText(\"Spider-Man\", new() {Exact=true});\n",
    "var spiderman_container = spiderman.Locator(\"//ancestor::tr\");\n",
    "var spiderman_realname_col = spiderman_container.Locator(\"td:nth-of-type(3)\");\n",
    "assert(await spiderman_realname_col.CountAsync() == 1);\n",
    "assert((await spiderman_realname_col.TextContentAsync()).Contains(\"Peter Parker\"));"
   ]
  },
  {
   "cell_type": "markdown",
   "metadata": {},
   "source": [
    "# I reload the page"
   ]
  },
  {
   "cell_type": "code",
   "execution_count": 17,
   "metadata": {
    "vscode": {
     "languageId": "csharp"
    }
   },
   "outputs": [],
   "source": [
    "await page.ReloadAsync();"
   ]
  },
  {
   "cell_type": "markdown",
   "metadata": {},
   "source": [
    "# I can click and I can type"
   ]
  },
  {
   "cell_type": "code",
   "execution_count": 18,
   "metadata": {
    "vscode": {
     "languageId": "csharp"
    }
   },
   "outputs": [],
   "source": [
    "await page.GotoAsync(\"https://qaplayground.dev/apps/verify-account/\");"
   ]
  },
  {
   "cell_type": "code",
   "execution_count": 19,
   "metadata": {
    "vscode": {
     "languageId": "csharp"
    }
   },
   "outputs": [],
   "source": [
    "await Expect(page.Locator(\"#title\")).ToHaveTextAsync(\"Verify Your Account\");"
   ]
  },
  {
   "cell_type": "code",
   "execution_count": 20,
   "metadata": {
    "vscode": {
     "languageId": "csharp"
    }
   },
   "outputs": [],
   "source": [
    "var nums = Enumerable.Range(1, 6).Select(num => page.Locator($\".code-container input:nth-of-type({num})\")).ToList();"
   ]
  },
  {
   "cell_type": "code",
   "execution_count": 21,
   "metadata": {
    "vscode": {
     "languageId": "csharp"
    }
   },
   "outputs": [],
   "source": [
    "assert(nums.Count == 6);"
   ]
  },
  {
   "cell_type": "code",
   "execution_count": 22,
   "metadata": {
    "vscode": {
     "languageId": "csharp"
    }
   },
   "outputs": [],
   "source": [
    "var code_regex = new Regex( string.Join('-', Enumerable.Repeat(@\"\\d\", 6)) );"
   ]
  },
  {
   "cell_type": "code",
   "execution_count": 23,
   "metadata": {
    "vscode": {
     "languageId": "csharp"
    }
   },
   "outputs": [],
   "source": [
    "assert( code_regex.Match(\" The confirmation code is 9-9-9-9-9-9 \").Value == \"9-9-9-9-9-9\" );"
   ]
  },
  {
   "cell_type": "code",
   "execution_count": 24,
   "metadata": {
    "vscode": {
     "languageId": "csharp"
    }
   },
   "outputs": [],
   "source": [
    "var phrase = await page.Locator(\".info\").InnerTextAsync();"
   ]
  },
  {
   "cell_type": "code",
   "execution_count": 25,
   "metadata": {
    "vscode": {
     "languageId": "csharp"
    }
   },
   "outputs": [
    {
     "data": {
      "text/html": [
       "<div class=\"dni-plaintext\"><pre>[ 9, 9, 9, 9, 9, 9 ]</pre></div><style>\r\n",
       ".dni-code-hint {\r\n",
       "    font-style: italic;\r\n",
       "    overflow: hidden;\r\n",
       "    white-space: nowrap;\r\n",
       "}\r\n",
       ".dni-treeview {\r\n",
       "    white-space: nowrap;\r\n",
       "}\r\n",
       ".dni-treeview td {\r\n",
       "    vertical-align: top;\r\n",
       "    text-align: start;\r\n",
       "}\r\n",
       "details.dni-treeview {\r\n",
       "    padding-left: 1em;\r\n",
       "}\r\n",
       "table td {\r\n",
       "    text-align: start;\r\n",
       "}\r\n",
       "table tr { \r\n",
       "    vertical-align: top; \r\n",
       "    margin: 0em 0px;\r\n",
       "}\r\n",
       "table tr td pre \r\n",
       "{ \r\n",
       "    vertical-align: top !important; \r\n",
       "    margin: 0em 0px !important;\r\n",
       "} \r\n",
       "table th {\r\n",
       "    text-align: start;\r\n",
       "}\r\n",
       "</style>"
      ]
     },
     "execution_count": 25,
     "metadata": {},
     "output_type": "execute_result"
    }
   ],
   "source": [
    "var code_nums = code_regex.Match(phrase).Value.Split('-');\n",
    "code_nums"
   ]
  },
  {
   "cell_type": "code",
   "execution_count": 26,
   "metadata": {
    "vscode": {
     "languageId": "csharp"
    }
   },
   "outputs": [],
   "source": [
    "assert(code_nums.Length == 6);"
   ]
  },
  {
   "cell_type": "code",
   "execution_count": 27,
   "metadata": {
    "vscode": {
     "languageId": "csharp"
    }
   },
   "outputs": [
    {
     "data": {
      "text/html": [
       "<div class=\"dni-plaintext\"><pre>[ 0, 1, 2, 3, 4, 5 ]</pre></div><style>\r\n",
       ".dni-code-hint {\r\n",
       "    font-style: italic;\r\n",
       "    overflow: hidden;\r\n",
       "    white-space: nowrap;\r\n",
       "}\r\n",
       ".dni-treeview {\r\n",
       "    white-space: nowrap;\r\n",
       "}\r\n",
       ".dni-treeview td {\r\n",
       "    vertical-align: top;\r\n",
       "    text-align: start;\r\n",
       "}\r\n",
       "details.dni-treeview {\r\n",
       "    padding-left: 1em;\r\n",
       "}\r\n",
       "table td {\r\n",
       "    text-align: start;\r\n",
       "}\r\n",
       "table tr { \r\n",
       "    vertical-align: top; \r\n",
       "    margin: 0em 0px;\r\n",
       "}\r\n",
       "table tr td pre \r\n",
       "{ \r\n",
       "    vertical-align: top !important; \r\n",
       "    margin: 0em 0px !important;\r\n",
       "} \r\n",
       "table th {\r\n",
       "    text-align: start;\r\n",
       "}\r\n",
       "</style>"
      ]
     },
     "execution_count": 27,
     "metadata": {},
     "output_type": "execute_result"
    }
   ],
   "source": [
    "Enumerable.Range(0, 6).ToList()"
   ]
  },
  {
   "cell_type": "code",
   "execution_count": 28,
   "metadata": {
    "vscode": {
     "languageId": "csharp"
    }
   },
   "outputs": [],
   "source": [
    "foreach(var ii in Enumerable.Range(0, 6)) {\n",
    "  // Console.WriteLine(ii);\n",
    "  await nums[ii].ClickAsync();\n",
    "  // await nums[ii].FillAsync(code_nums[ii]); //this did not work to trigger the input event\n",
    "  await nums[ii].PressSequentiallyAsync(code_nums[ii]);\n",
    "  await Expect(nums[ii]).ToHaveValueAsync(code_nums[ii]);\n",
    "  await page.WaitForTimeoutAsync(100); //msec //this seems important here\n",
    "}"
   ]
  },
  {
   "cell_type": "code",
   "execution_count": 29,
   "metadata": {
    "vscode": {
     "languageId": "csharp"
    }
   },
   "outputs": [],
   "source": [
    "await Expect(page.Locator(\".info.success\")).ToHaveTextAsync(\"Success\");"
   ]
  },
  {
   "cell_type": "markdown",
   "metadata": {},
   "source": [
    "# I can execute a real hover with the mouse"
   ]
  },
  {
   "cell_type": "code",
   "execution_count": 30,
   "metadata": {
    "vscode": {
     "languageId": "csharp"
    }
   },
   "outputs": [],
   "source": [
    "await page.GotoAsync(\"https://qaplayground.dev/apps/mouse-hover/\");"
   ]
  },
  {
   "cell_type": "code",
   "execution_count": 31,
   "metadata": {
    "vscode": {
     "languageId": "csharp"
    }
   },
   "outputs": [],
   "source": [
    "await Expect(page.Locator(\".poster\")).ToBeVisibleAsync();"
   ]
  },
  {
   "cell_type": "code",
   "execution_count": 32,
   "metadata": {
    "vscode": {
     "languageId": "csharp"
    }
   },
   "outputs": [],
   "source": [
    "var target_elem = \".title-container\";\n",
    "var target_css_property = \"opacity\";"
   ]
  },
  {
   "cell_type": "code",
   "execution_count": 33,
   "metadata": {
    "vscode": {
     "languageId": "csharp"
    }
   },
   "outputs": [],
   "source": [
    "await Expect(page.Locator(target_elem)).ToHaveCSSAsync(\"opacity\", \"0\");"
   ]
  },
  {
   "cell_type": "code",
   "execution_count": 34,
   "metadata": {
    "vscode": {
     "languageId": "csharp"
    }
   },
   "outputs": [],
   "source": [
    "await page.Locator(\".poster\").HoverAsync();"
   ]
  },
  {
   "cell_type": "code",
   "execution_count": 35,
   "metadata": {
    "vscode": {
     "languageId": "csharp"
    }
   },
   "outputs": [],
   "source": [
    "await Expect(page.Locator(target_elem)).ToHaveCSSAsync(target_css_property, \"1\");"
   ]
  },
  {
   "cell_type": "markdown",
   "metadata": {},
   "source": [
    "# I can right click and interact with a context menu"
   ]
  },
  {
   "cell_type": "code",
   "execution_count": 36,
   "metadata": {
    "vscode": {
     "languageId": "csharp"
    }
   },
   "outputs": [],
   "source": [
    "await page.GotoAsync(\"https://qaplayground.dev/apps/context-menu/\");"
   ]
  },
  {
   "cell_type": "code",
   "execution_count": 37,
   "metadata": {
    "vscode": {
     "languageId": "csharp"
    }
   },
   "outputs": [],
   "source": [
    "assert(!await page.Locator(\"i.uil-trash-alt\").IsVisibleAsync());"
   ]
  },
  {
   "cell_type": "code",
   "execution_count": 38,
   "metadata": {
    "vscode": {
     "languageId": "csharp"
    }
   },
   "outputs": [],
   "source": [
    "await page.Locator(\"#msg\").ClickAsync(new() { Button = MouseButton.Right });"
   ]
  },
  {
   "cell_type": "code",
   "execution_count": 39,
   "metadata": {
    "vscode": {
     "languageId": "csharp"
    }
   },
   "outputs": [],
   "source": [
    "assert(await page.Locator(\"i.uil-trash-alt\").IsVisibleAsync());"
   ]
  },
  {
   "cell_type": "markdown",
   "metadata": {},
   "source": [
    "# I can double click and the action to be recorded as so"
   ]
  },
  {
   "cell_type": "code",
   "execution_count": 40,
   "metadata": {
    "vscode": {
     "languageId": "csharp"
    }
   },
   "outputs": [],
   "source": [
    "await page.GotoAsync(\"https://play1.automationcamp.ir/mouse_events.html\");"
   ]
  },
  {
   "cell_type": "code",
   "execution_count": 41,
   "metadata": {
    "vscode": {
     "languageId": "csharp"
    }
   },
   "outputs": [],
   "source": [
    "assert(!await page.Locator(\"#click_type\").IsVisibleAsync());"
   ]
  },
  {
   "cell_type": "code",
   "execution_count": 42,
   "metadata": {
    "vscode": {
     "languageId": "csharp"
    }
   },
   "outputs": [],
   "source": [
    "await page.Locator(\"#click_area\").ClickAsync(new() { ClickCount = 2 });"
   ]
  },
  {
   "cell_type": "code",
   "execution_count": 43,
   "metadata": {
    "vscode": {
     "languageId": "csharp"
    }
   },
   "outputs": [],
   "source": [
    "assert(await page.Locator(\"#click_type\").IsVisibleAsync());"
   ]
  },
  {
   "cell_type": "code",
   "execution_count": 44,
   "metadata": {
    "vscode": {
     "languageId": "csharp"
    }
   },
   "outputs": [],
   "source": [
    "assert(await page.Locator(\"#click_type\").TextContentAsync() == \"Double-Click\");"
   ]
  },
  {
   "cell_type": "markdown",
   "metadata": {},
   "source": [
    "# I drag n drop an element on another element"
   ]
  },
  {
   "cell_type": "code",
   "execution_count": 45,
   "metadata": {
    "vscode": {
     "languageId": "csharp"
    }
   },
   "outputs": [],
   "source": [
    "var drag_elem = page.Locator(\"#drag_source\");\n",
    "var drop_elem = page.Locator(\"#drop_target\");"
   ]
  },
  {
   "cell_type": "code",
   "execution_count": 46,
   "metadata": {
    "vscode": {
     "languageId": "csharp"
    }
   },
   "outputs": [],
   "source": [
    "await Expect(drop_elem).ToBeVisibleAsync();"
   ]
  },
  {
   "cell_type": "code",
   "execution_count": 47,
   "metadata": {
    "vscode": {
     "languageId": "csharp"
    }
   },
   "outputs": [],
   "source": [
    "await Expect(drop_elem).ToHaveTextAsync(\"Target\");"
   ]
  },
  {
   "cell_type": "code",
   "execution_count": 48,
   "metadata": {
    "vscode": {
     "languageId": "csharp"
    }
   },
   "outputs": [],
   "source": [
    "await Expect(drag_elem).ToHaveTextAsync(\"Drop me on to the green box\");"
   ]
  },
  {
   "cell_type": "code",
   "execution_count": 49,
   "metadata": {
    "vscode": {
     "languageId": "csharp"
    }
   },
   "outputs": [],
   "source": [
    "await page.DragAndDropAsync(\"#drag_source\", \"#drop_target\");"
   ]
  },
  {
   "cell_type": "code",
   "execution_count": 50,
   "metadata": {
    "vscode": {
     "languageId": "csharp"
    }
   },
   "outputs": [],
   "source": [
    "await Expect(drop_elem).ToHaveTextAsync(\"Drop is successful!\");"
   ]
  },
  {
   "cell_type": "markdown",
   "metadata": {},
   "source": [
    "# I use tab key and enter key to fill and submit a form"
   ]
  },
  {
   "cell_type": "code",
   "execution_count": 51,
   "metadata": {
    "vscode": {
     "languageId": "csharp"
    }
   },
   "outputs": [],
   "source": [
    "await page.GotoAsync(\"https://play1.automationcamp.ir/forms.html\");"
   ]
  },
  {
   "cell_type": "code",
   "execution_count": 52,
   "metadata": {
    "vscode": {
     "languageId": "csharp"
    }
   },
   "outputs": [],
   "source": [
    "await Expect(page.Locator(\"#validationCustom04\")).Not.ToBeFocusedAsync();"
   ]
  },
  {
   "cell_type": "code",
   "execution_count": 53,
   "metadata": {
    "vscode": {
     "languageId": "csharp"
    }
   },
   "outputs": [],
   "source": [
    "await page.FocusAsync(\"#validationCustom03\");"
   ]
  },
  {
   "cell_type": "code",
   "execution_count": 54,
   "metadata": {
    "vscode": {
     "languageId": "csharp"
    }
   },
   "outputs": [],
   "source": [
    "await page.Locator(\"#validationCustom03\").FillAsync(\"beautiful city\");"
   ]
  },
  {
   "cell_type": "code",
   "execution_count": 55,
   "metadata": {
    "vscode": {
     "languageId": "csharp"
    }
   },
   "outputs": [],
   "source": [
    "await page.PressAsync(\"#validationCustom03\", \"Tab\");"
   ]
  },
  {
   "cell_type": "code",
   "execution_count": 56,
   "metadata": {
    "vscode": {
     "languageId": "csharp"
    }
   },
   "outputs": [],
   "source": [
    "await Expect(page.Locator(\"#validationCustom04\")).ToBeFocusedAsync();"
   ]
  },
  {
   "cell_type": "code",
   "execution_count": 57,
   "metadata": {
    "vscode": {
     "languageId": "csharp"
    }
   },
   "outputs": [],
   "source": [
    "await page.Locator(\"#validationCustom04\").FillAsync(\"MaState\");"
   ]
  },
  {
   "cell_type": "code",
   "execution_count": 58,
   "metadata": {
    "vscode": {
     "languageId": "csharp"
    }
   },
   "outputs": [],
   "source": [
    "await Expect(page.Locator(\"#validationCustom05\")).Not.ToBeFocusedAsync();"
   ]
  },
  {
   "cell_type": "code",
   "execution_count": 59,
   "metadata": {
    "vscode": {
     "languageId": "csharp"
    }
   },
   "outputs": [],
   "source": [
    "await page.PressAsync(\"#validationCustom04\", \"Tab\");"
   ]
  },
  {
   "cell_type": "code",
   "execution_count": 60,
   "metadata": {
    "vscode": {
     "languageId": "csharp"
    }
   },
   "outputs": [],
   "source": [
    "await Expect(page.Locator(\"#validationCustom05\")).ToBeFocusedAsync();"
   ]
  },
  {
   "cell_type": "code",
   "execution_count": 61,
   "metadata": {
    "vscode": {
     "languageId": "csharp"
    }
   },
   "outputs": [],
   "source": [
    "var loc = page.Locator(\"#invalid_terms\");\n",
    "await Expect(loc).ToContainTextAsync(\"You must agree before submitting\");"
   ]
  },
  {
   "cell_type": "code",
   "execution_count": 62,
   "metadata": {
    "vscode": {
     "languageId": "csharp"
    }
   },
   "outputs": [],
   "source": [
    "await Expect(loc).Not.ToBeVisibleAsync();"
   ]
  },
  {
   "cell_type": "code",
   "execution_count": 63,
   "metadata": {
    "vscode": {
     "languageId": "csharp"
    }
   },
   "outputs": [],
   "source": [
    "await page.Locator(\"#validationCustom05\").FillAsync(\"53479\");"
   ]
  },
  {
   "cell_type": "code",
   "execution_count": 64,
   "metadata": {
    "vscode": {
     "languageId": "csharp"
    }
   },
   "outputs": [],
   "source": [
    "await page.PressAsync(\"#validationCustom05\", \"Enter\");"
   ]
  },
  {
   "cell_type": "code",
   "execution_count": 65,
   "metadata": {
    "vscode": {
     "languageId": "csharp"
    }
   },
   "outputs": [],
   "source": [
    "await Expect(loc).ToBeVisibleAsync();"
   ]
  },
  {
   "cell_type": "markdown",
   "metadata": {},
   "source": [
    "# I submit a form using native browser submit function"
   ]
  },
  {
   "cell_type": "code",
   "execution_count": 66,
   "metadata": {
    "vscode": {
     "languageId": "csharp"
    }
   },
   "outputs": [],
   "source": [
    "var form_loc = \"form.needs-validation\";"
   ]
  },
  {
   "cell_type": "code",
   "execution_count": 67,
   "metadata": {
    "vscode": {
     "languageId": "csharp"
    }
   },
   "outputs": [],
   "source": [
    "await page.Locator($\"{form_loc} .form-check-input\").CheckAsync();"
   ]
  },
  {
   "cell_type": "code",
   "execution_count": 68,
   "metadata": {
    "vscode": {
     "languageId": "csharp"
    }
   },
   "outputs": [],
   "source": [
    "await Expect(page.Locator(\"#validationCustom03\")).ToHaveValueAsync(\"beautiful city\");"
   ]
  },
  {
   "cell_type": "code",
   "execution_count": 69,
   "metadata": {
    "vscode": {
     "languageId": "csharp"
    }
   },
   "outputs": [
    {
     "name": "stderr",
     "output_type": "stream",
     "text": [
      "\n",
      "warning CS1701: Assuming assembly reference 'System.Text.Json, Version=6.0.0.0, Culture=neutral, PublicKeyToken=cc7b13ffcd2ddd51' used by 'Microsoft.Playwright' matches identity 'System.Text.Json, Version=8.0.0.0, Culture=neutral, PublicKeyToken=cc7b13ffcd2ddd51' of 'System.Text.Json', you may need to supply runtime policy\n",
      "\n"
     ]
    }
   ],
   "source": [
    "await page.EvaluateAsync($\"document.querySelector(\\\"{form_loc}\\\").submit()\");"
   ]
  },
  {
   "cell_type": "code",
   "execution_count": 70,
   "metadata": {
    "vscode": {
     "languageId": "csharp"
    }
   },
   "outputs": [],
   "source": [
    "await Expect(page.Locator(\"#validationCustom03\")).ToHaveValueAsync(\"\");"
   ]
  },
  {
   "cell_type": "markdown",
   "metadata": {},
   "source": [
    "# I select a native dropdown from a form"
   ]
  },
  {
   "cell_type": "code",
   "execution_count": 71,
   "metadata": {
    "vscode": {
     "languageId": "csharp"
    }
   },
   "outputs": [],
   "source": [
    "var loc = page.Locator(\"#select_tool\");"
   ]
  },
  {
   "cell_type": "code",
   "execution_count": 72,
   "metadata": {
    "vscode": {
     "languageId": "csharp"
    }
   },
   "outputs": [],
   "source": [
    "var assertion_loc = page.Locator(\"#select_tool_validate\");"
   ]
  },
  {
   "cell_type": "code",
   "execution_count": 73,
   "metadata": {
    "vscode": {
     "languageId": "csharp"
    }
   },
   "outputs": [],
   "source": [
    "assert(await loc.IsVisibleAsync());"
   ]
  },
  {
   "cell_type": "code",
   "execution_count": 74,
   "metadata": {
    "vscode": {
     "languageId": "csharp"
    }
   },
   "outputs": [],
   "source": [
    "assert(await assertion_loc.IsHiddenAsync());"
   ]
  },
  {
   "cell_type": "code",
   "execution_count": 75,
   "metadata": {
    "vscode": {
     "languageId": "csharp"
    }
   },
   "outputs": [],
   "source": [
    "await Expect(assertion_loc).ToHaveTextAsync(\"\");"
   ]
  },
  {
   "cell_type": "code",
   "execution_count": 76,
   "metadata": {
    "vscode": {
     "languageId": "csharp"
    }
   },
   "outputs": [],
   "source": [
    "await loc.SelectOptionAsync(\"cyp\");"
   ]
  },
  {
   "cell_type": "code",
   "execution_count": 77,
   "metadata": {
    "vscode": {
     "languageId": "csharp"
    }
   },
   "outputs": [],
   "source": [
    "assert(await assertion_loc.IsVisibleAsync());"
   ]
  },
  {
   "cell_type": "code",
   "execution_count": 78,
   "metadata": {
    "vscode": {
     "languageId": "csharp"
    }
   },
   "outputs": [],
   "source": [
    "await Expect(assertion_loc).ToContainTextAsync(\"cyp\");"
   ]
  },
  {
   "cell_type": "markdown",
   "metadata": {},
   "source": [
    "# I get and I set attributes from an html element"
   ]
  },
  {
   "cell_type": "code",
   "execution_count": 79,
   "metadata": {
    "vscode": {
     "languageId": "csharp"
    }
   },
   "outputs": [],
   "source": [
    "var css_sel = \"#check_java\";\n",
    "var loc = page.Locator(css_sel);"
   ]
  },
  {
   "cell_type": "code",
   "execution_count": 80,
   "metadata": {
    "vscode": {
     "languageId": "csharp"
    }
   },
   "outputs": [],
   "source": [
    "await Expect(loc).ToHaveAttributeAsync(\"disabled\", \"\");"
   ]
  },
  {
   "cell_type": "code",
   "execution_count": 81,
   "metadata": {
    "vscode": {
     "languageId": "csharp"
    }
   },
   "outputs": [
    {
     "name": "stderr",
     "output_type": "stream",
     "text": [
      "\n",
      "warning CS1701: Assuming assembly reference 'System.Text.Json, Version=6.0.0.0, Culture=neutral, PublicKeyToken=cc7b13ffcd2ddd51' used by 'Microsoft.Playwright' matches identity 'System.Text.Json, Version=8.0.0.0, Culture=neutral, PublicKeyToken=cc7b13ffcd2ddd51' of 'System.Text.Json', you may need to supply runtime policy\n",
      "\n"
     ]
    }
   ],
   "source": [
    "await page.EvaluateAsync($\"document.querySelector('{css_sel}').removeAttribute('disabled')\");"
   ]
  },
  {
   "cell_type": "code",
   "execution_count": 82,
   "metadata": {
    "vscode": {
     "languageId": "csharp"
    }
   },
   "outputs": [],
   "source": [
    "await Expect(loc).Not.ToHaveAttributeAsync(\"disabled\", \"\");"
   ]
  },
  {
   "cell_type": "code",
   "execution_count": 83,
   "metadata": {
    "vscode": {
     "languageId": "csharp"
    }
   },
   "outputs": [
    {
     "name": "stderr",
     "output_type": "stream",
     "text": [
      "\n",
      "warning CS1701: Assuming assembly reference 'System.Text.Json, Version=6.0.0.0, Culture=neutral, PublicKeyToken=cc7b13ffcd2ddd51' used by 'Microsoft.Playwright' matches identity 'System.Text.Json, Version=8.0.0.0, Culture=neutral, PublicKeyToken=cc7b13ffcd2ddd51' of 'System.Text.Json', you may need to supply runtime policy\n",
      "\n"
     ]
    }
   ],
   "source": [
    "await page.EvaluateAsync($\"document.querySelector('{css_sel}').setAttribute('disabled', 'true')\");"
   ]
  },
  {
   "cell_type": "code",
   "execution_count": 84,
   "metadata": {
    "vscode": {
     "languageId": "csharp"
    }
   },
   "outputs": [],
   "source": [
    "await Expect(loc).ToHaveAttributeAsync(\"disabled\", \"true\");"
   ]
  },
  {
   "cell_type": "markdown",
   "metadata": {},
   "source": [
    "# I wait for the contents of a popup alert and I dismiss it"
   ]
  },
  {
   "cell_type": "code",
   "execution_count": 85,
   "metadata": {
    "vscode": {
     "languageId": "csharp"
    }
   },
   "outputs": [],
   "source": [
    "await page.GotoAsync(\"https://play1.automationcamp.ir/expected_conditions.html\");"
   ]
  },
  {
   "cell_type": "code",
   "execution_count": 86,
   "metadata": {
    "vscode": {
     "languageId": "csharp"
    }
   },
   "outputs": [],
   "source": [
    "var sel = \"button#alert_trigger\";\n",
    "var alert_msg = \"I am alerting you!\";\n",
    "var badge = \"#alert_handled_badge\";"
   ]
  },
  {
   "cell_type": "code",
   "execution_count": 87,
   "metadata": {
    "vscode": {
     "languageId": "csharp"
    }
   },
   "outputs": [],
   "source": [
    "assert(await page.Locator(sel).TextContentAsync() == \"Show Alert\");"
   ]
  },
  {
   "cell_type": "code",
   "execution_count": 88,
   "metadata": {
    "vscode": {
     "languageId": "csharp"
    }
   },
   "outputs": [],
   "source": [
    "assert(!await page.Locator(badge).IsVisibleAsync());"
   ]
  },
  {
   "cell_type": "code",
   "execution_count": 89,
   "metadata": {
    "vscode": {
     "languageId": "csharp"
    }
   },
   "outputs": [],
   "source": [
    "System.EventHandler<Microsoft.Playwright.IDialog> alert_dialog_handler = async (_, dialog) => {\n",
    "  Console.WriteLine($\"Dialog message: {dialog.Message}\");\n",
    "  assert(DialogType.Alert == dialog.Type, \"Expected an alert dialog.\");\n",
    "  assert(alert_msg == dialog.Message, \"Unexpected dialog message.\");\n",
    "  await dialog.AcceptAsync();\n",
    "};"
   ]
  },
  {
   "cell_type": "code",
   "execution_count": 90,
   "metadata": {
    "vscode": {
     "languageId": "csharp"
    }
   },
   "outputs": [],
   "source": [
    " // Set up the dialog event handler\n",
    "page.Dialog += alert_dialog_handler"
   ]
  },
  {
   "cell_type": "code",
   "execution_count": 91,
   "metadata": {
    "vscode": {
     "languageId": "csharp"
    }
   },
   "outputs": [],
   "source": [
    "// Trigger the alert and handle the dialog\n",
    "await page.ClickAsync(sel);\n",
    "\n",
    "// By chance here because Jupyter Notebooks does not handle Async super well if the assertions inside the async for the dialog event handler above\n",
    "// fail then we will get and error like so\n",
    "/*\n",
    "{\n",
    "\t\"name\": \"\",\n",
    "\t\"message\": \"\",\n",
    "\t\"stack\": \"The Kernel crashed while executing code in the current cell or a previous cell. \n",
    "Please review the code in the cell(s) to identify a possible cause of the failure. \n",
    "Click <a href='https://aka.ms/vscodeJupyterKernelCrash'>here</a> for more info. \n",
    "View Jupyter <a href='command:jupyter.viewOutput'>log</a> for further details.\"\n",
    "}\n",
    "*/\n",
    "//From a testing perspective this achieves what we want, meaning that it stops the executions and it fails. So it fails when assertions fail\n",
    "// and it does nothing when they pass. This is the desired behavior for testing."
   ]
  },
  {
   "cell_type": "code",
   "execution_count": 92,
   "metadata": {
    "vscode": {
     "languageId": "csharp"
    }
   },
   "outputs": [],
   "source": [
    "// await page.Locator(badge).WaitForAsync(new LocatorWaitForOptions { State = WaitForSelectorState.Visible });\n",
    "await page.Locator(badge).WaitForAsync(new() { State = WaitForSelectorState.Visible });"
   ]
  },
  {
   "cell_type": "code",
   "execution_count": 93,
   "metadata": {
    "vscode": {
     "languageId": "csharp"
    }
   },
   "outputs": [],
   "source": [
    "var alert_badge = page.Locator(badge);"
   ]
  },
  {
   "cell_type": "code",
   "execution_count": 94,
   "metadata": {
    "vscode": {
     "languageId": "csharp"
    }
   },
   "outputs": [],
   "source": [
    "assert((await alert_badge.TextContentAsync()).Contains(\"Alert\"));\n",
    "assert((await alert_badge.TextContentAsync()).Contains(\"handled\"));"
   ]
  },
  {
   "cell_type": "code",
   "execution_count": 95,
   "metadata": {
    "vscode": {
     "languageId": "csharp"
    }
   },
   "outputs": [],
   "source": [
    "page.Dialog -= alert_dialog_handler;"
   ]
  },
  {
   "cell_type": "markdown",
   "metadata": {},
   "source": [
    "# I wait for the confirmation popup and I accept it"
   ]
  },
  {
   "cell_type": "code",
   "execution_count": 96,
   "metadata": {
    "vscode": {
     "languageId": "csharp"
    }
   },
   "outputs": [],
   "source": [
    "var sel = \"button#prompt_trigger\";\n",
    "var confirmation_msg = \"Choose wisely...\\nIt's your life!\";\n",
    "var confirm_badge = \"#confirm_ok_badge\";"
   ]
  },
  {
   "cell_type": "code",
   "execution_count": 97,
   "metadata": {
    "vscode": {
     "languageId": "csharp"
    }
   },
   "outputs": [],
   "source": [
    "await Expect(page.Locator(sel)).ToHaveTextAsync(\"Show Prompt\");"
   ]
  },
  {
   "cell_type": "code",
   "execution_count": 98,
   "metadata": {
    "vscode": {
     "languageId": "csharp"
    }
   },
   "outputs": [],
   "source": [
    "assert(!await page.Locator(confirm_badge).IsVisibleAsync());"
   ]
  },
  {
   "cell_type": "code",
   "execution_count": 99,
   "metadata": {
    "vscode": {
     "languageId": "csharp"
    }
   },
   "outputs": [],
   "source": [
    "string dialog_type = string.Empty;\n",
    "string dialog_message = string.Empty;"
   ]
  },
  {
   "cell_type": "code",
   "execution_count": 100,
   "metadata": {
    "vscode": {
     "languageId": "csharp"
    }
   },
   "outputs": [],
   "source": [
    "// Define the dialog event handler\n",
    "System.EventHandler<Microsoft.Playwright.IDialog> confirm_dialog_handler = async (_, dialog) => {\n",
    "  dialog_type = dialog.Type;\n",
    "  // isConfirmDialog = DialogType.Confirm == dialog.Type;\n",
    "  dialog_message = dialog.Message;\n",
    "  await dialog.AcceptAsync();\n",
    "};"
   ]
  },
  {
   "cell_type": "code",
   "execution_count": 101,
   "metadata": {
    "vscode": {
     "languageId": "csharp"
    }
   },
   "outputs": [],
   "source": [
    "// Set up the dialog event handler\n",
    "page.Dialog += confirm_dialog_handler;"
   ]
  },
  {
   "cell_type": "code",
   "execution_count": 102,
   "metadata": {
    "vscode": {
     "languageId": "csharp"
    }
   },
   "outputs": [],
   "source": [
    "await page.ClickAsync(sel);\n",
    "await Expect(page.Locator(confirm_badge)).ToBeVisibleAsync();"
   ]
  },
  {
   "cell_type": "code",
   "execution_count": 103,
   "metadata": {
    "vscode": {
     "languageId": "csharp"
    }
   },
   "outputs": [],
   "source": [
    "assert(dialog_type == \"confirm\");\n",
    "assert(dialog_message == confirmation_msg);"
   ]
  },
  {
   "cell_type": "code",
   "execution_count": 104,
   "metadata": {
    "vscode": {
     "languageId": "csharp"
    }
   },
   "outputs": [],
   "source": [
    "await Expect(page.Locator(confirm_badge)).ToBeVisibleAsync();\n",
    "await Expect(page.Locator(confirm_badge)).ToContainTextAsync(\"OK\");"
   ]
  },
  {
   "cell_type": "code",
   "execution_count": 105,
   "metadata": {
    "vscode": {
     "languageId": "csharp"
    }
   },
   "outputs": [],
   "source": [
    "page.Dialog -= confirm_dialog_handler;"
   ]
  },
  {
   "cell_type": "markdown",
   "metadata": {},
   "source": [
    "# I wait for the confirmation popup and I reject it"
   ]
  },
  {
   "cell_type": "code",
   "execution_count": 106,
   "metadata": {
    "vscode": {
     "languageId": "csharp"
    }
   },
   "outputs": [],
   "source": [
    "var sel = \"button#prompt_trigger\";\n",
    "var confirmation_msg = \"Choose wisely...\\nIt's your life!\";\n",
    "var confirm_badge = \"#confirm_cancelled_badge\";"
   ]
  },
  {
   "cell_type": "code",
   "execution_count": 107,
   "metadata": {
    "vscode": {
     "languageId": "csharp"
    }
   },
   "outputs": [],
   "source": [
    "await page.ReloadAsync();"
   ]
  },
  {
   "cell_type": "code",
   "execution_count": 108,
   "metadata": {
    "vscode": {
     "languageId": "csharp"
    }
   },
   "outputs": [],
   "source": [
    "await Expect(page.Locator(sel)).ToHaveTextAsync(\"Show Prompt\");"
   ]
  },
  {
   "cell_type": "code",
   "execution_count": 109,
   "metadata": {
    "vscode": {
     "languageId": "csharp"
    }
   },
   "outputs": [],
   "source": [
    "assert(!await page.Locator(confirm_badge).IsVisibleAsync());"
   ]
  },
  {
   "cell_type": "code",
   "execution_count": 110,
   "metadata": {
    "vscode": {
     "languageId": "csharp"
    }
   },
   "outputs": [],
   "source": [
    "string dialog_type = string.Empty;\n",
    "string dialog_message = string.Empty;"
   ]
  },
  {
   "cell_type": "code",
   "execution_count": 111,
   "metadata": {
    "vscode": {
     "languageId": "csharp"
    }
   },
   "outputs": [],
   "source": [
    "System.EventHandler<Microsoft.Playwright.IDialog> confirm_dialog_handler = async (_, dialog) => {\n",
    "  dialog_message = dialog.Message;\n",
    "  dialog_type = dialog.Type;\n",
    "  await dialog.DismissAsync();\n",
    "};"
   ]
  },
  {
   "cell_type": "code",
   "execution_count": 112,
   "metadata": {
    "vscode": {
     "languageId": "csharp"
    }
   },
   "outputs": [],
   "source": [
    "page.Dialog += confirm_dialog_handler;\n",
    "await page.ClickAsync(sel);\n",
    "await Expect(page.Locator(confirm_badge)).ToBeVisibleAsync();\n",
    "page.Dialog -= confirm_dialog_handler;"
   ]
  },
  {
   "cell_type": "code",
   "execution_count": 113,
   "metadata": {
    "vscode": {
     "languageId": "csharp"
    }
   },
   "outputs": [],
   "source": [
    "assert(dialog_type == \"confirm\");\n",
    "assert(dialog_message == confirmation_msg);"
   ]
  },
  {
   "cell_type": "code",
   "execution_count": 114,
   "metadata": {
    "vscode": {
     "languageId": "csharp"
    }
   },
   "outputs": [],
   "source": [
    "await Expect(page.Locator(confirm_badge)).ToBeVisibleAsync();\n",
    "await Expect(page.Locator(confirm_badge)).ToContainTextAsync(\"Cancelled\");"
   ]
  },
  {
   "cell_type": "markdown",
   "metadata": {},
   "source": [
    "# I trigger a prompt alert and pass \"geia sou\" as text TODO also did not work for Playwright\n",
    "WHICH MEANS THAT WE NEED TO FIND ANOTHER WEBSITE TO TEST THIS as it might have to do with how people are getting their info"
   ]
  },
  {
   "cell_type": "code",
   "execution_count": 115,
   "metadata": {
    "vscode": {
     "languageId": "csharp"
    }
   },
   "outputs": [],
   "source": [
    "// This needs to be translated from Python to C#\n",
    "/*\n",
    "# await page.goto('https://testpages.herokuapp.com/styled/alerts/alert-test.html')\n",
    "# txt = 'geia sou'\n",
    "# html_sel = '#promptreturn'\n",
    "# button = '#promptexample'\n",
    "# prompt_msg = 'I prompt you'\n",
    "# await expect(page.locator(html_sel)).to_have_text('')\n",
    "# async with page.expect_event('dialog') as dialog_info: # we have prepared the listener but we are not blocking execution\n",
    "#   await page.click(button)\n",
    "\n",
    "# dialog = await dialog_info.value\n",
    "# assert dialog.type == 'prompt'\n",
    "# assert dialog.message == prompt_msg\n",
    "# await dialog.accept(txt)\n",
    "*/"
   ]
  },
  {
   "cell_type": "markdown",
   "metadata": {},
   "source": [
    "# I can assert inside a changing iframe"
   ]
  },
  {
   "cell_type": "code",
   "execution_count": 116,
   "metadata": {
    "vscode": {
     "languageId": "csharp"
    }
   },
   "outputs": [],
   "source": [
    "await page.GotoAsync(\"https://qaplayground.dev/apps/changing-iframe/\");\n",
    "var frame = page.FrameLocator(\"iframe\");\n",
    "var sel = \"#msg\";\n",
    "var elem = frame.Locator(sel);\n",
    "await elem.WaitForAsync(new() { Timeout = 20000 });\n",
    "await Expect(frame.Locator(sel)).ToHaveTextAsync(\"This is the end of the journey\");"
   ]
  },
  {
   "cell_type": "markdown",
   "metadata": {},
   "source": [
    "# I can access a nested iframe and assert in it"
   ]
  },
  {
   "cell_type": "code",
   "execution_count": 117,
   "metadata": {
    "vscode": {
     "languageId": "csharp"
    }
   },
   "outputs": [],
   "source": [
    "await page.GotoAsync(\"https://qaplayground.dev/apps/iframe/\");"
   ]
  },
  {
   "cell_type": "code",
   "execution_count": 118,
   "metadata": {
    "vscode": {
     "languageId": "csharp"
    }
   },
   "outputs": [],
   "source": [
    "await Expect(page.Locator(\"#frame1\")).ToBeVisibleAsync();"
   ]
  },
  {
   "cell_type": "code",
   "execution_count": 119,
   "metadata": {
    "vscode": {
     "languageId": "csharp"
    }
   },
   "outputs": [],
   "source": [
    "var frame = page.FrameLocator(\"#frame1\");"
   ]
  },
  {
   "cell_type": "code",
   "execution_count": 120,
   "metadata": {
    "vscode": {
     "languageId": "csharp"
    }
   },
   "outputs": [],
   "source": [
    "await Expect(frame.Locator(\"legend\")).ToHaveTextAsync(\"First Level Iframe\");\n",
    "await Expect(frame.Locator(\"#frame2\")).ToBeVisibleAsync();"
   ]
  },
  {
   "cell_type": "code",
   "execution_count": 121,
   "metadata": {
    "vscode": {
     "languageId": "csharp"
    }
   },
   "outputs": [],
   "source": [
    "var inner_frame = frame.FrameLocator(\"#frame2\");"
   ]
  },
  {
   "cell_type": "code",
   "execution_count": 122,
   "metadata": {
    "vscode": {
     "languageId": "csharp"
    }
   },
   "outputs": [],
   "source": [
    "await Expect(inner_frame.Locator(\"legend\")).ToHaveTextAsync(\"Second Level Iframe\");"
   ]
  },
  {
   "cell_type": "code",
   "execution_count": 123,
   "metadata": {
    "vscode": {
     "languageId": "csharp"
    }
   },
   "outputs": [],
   "source": [
    "await Expect(inner_frame.Locator(\"#msg\")).Not.ToBeVisibleAsync();\n",
    "await Expect(inner_frame.Locator(\".btn\")).ToBeVisibleAsync();"
   ]
  },
  {
   "cell_type": "code",
   "execution_count": 124,
   "metadata": {
    "vscode": {
     "languageId": "csharp"
    }
   },
   "outputs": [],
   "source": [
    "await inner_frame.Locator(\".btn\").ClickAsync();\n",
    "await Expect(inner_frame.Locator(\"#msg\")).ToBeVisibleAsync();\n",
    "await Expect(inner_frame.Locator(\"#msg\")).ToHaveTextAsync(\"Button Clicked\");"
   ]
  },
  {
   "cell_type": "markdown",
   "metadata": {},
   "source": [
    "# I can manage new tabs"
   ]
  },
  {
   "cell_type": "code",
   "execution_count": 125,
   "metadata": {
    "vscode": {
     "languageId": "csharp"
    }
   },
   "outputs": [],
   "source": [
    "await page.GotoAsync(\"https://qaplayground.dev/apps/new-tab/\");"
   ]
  },
  {
   "cell_type": "code",
   "execution_count": 126,
   "metadata": {
    "vscode": {
     "languageId": "csharp"
    }
   },
   "outputs": [],
   "source": [
    "//https://playwright.dev/dotnet/docs/api/class-browsercontext\n",
    "var newPageTask = context.RunAndWaitForPageAsync(async () =>\n",
    "{\n",
    "  await page.ClickAsync(\"#open\");\n",
    "});"
   ]
  },
  {
   "cell_type": "code",
   "execution_count": 127,
   "metadata": {
    "vscode": {
     "languageId": "csharp"
    }
   },
   "outputs": [],
   "source": [
    "// Get the new page and ensure it has fully loaded\n",
    "var newPage = await newPageTask;\n",
    "await newPage.WaitForLoadStateAsync(LoadState.Load);"
   ]
  },
  {
   "cell_type": "code",
   "execution_count": 128,
   "metadata": {
    "vscode": {
     "languageId": "csharp"
    }
   },
   "outputs": [],
   "source": [
    "var header = newPage.Locator(\"h1\");"
   ]
  },
  {
   "cell_type": "code",
   "execution_count": 129,
   "metadata": {
    "vscode": {
     "languageId": "csharp"
    }
   },
   "outputs": [],
   "source": [
    "await Expect(header).ToBeVisibleAsync();"
   ]
  },
  {
   "cell_type": "code",
   "execution_count": 130,
   "metadata": {
    "vscode": {
     "languageId": "csharp"
    }
   },
   "outputs": [],
   "source": [
    "await Expect(header).ToHaveTextAsync(\"Welcome to the new page!\");"
   ]
  },
  {
   "cell_type": "code",
   "execution_count": 131,
   "metadata": {
    "vscode": {
     "languageId": "csharp"
    }
   },
   "outputs": [],
   "source": [
    "await newPage.CloseAsync();"
   ]
  },
  {
   "cell_type": "markdown",
   "metadata": {},
   "source": [
    "# I can manage new windows"
   ]
  },
  {
   "cell_type": "code",
   "execution_count": 132,
   "metadata": {
    "vscode": {
     "languageId": "csharp"
    }
   },
   "outputs": [],
   "source": [
    "await page.GotoAsync(\"https://qaplayground.dev/apps/popup/\");"
   ]
  },
  {
   "cell_type": "code",
   "execution_count": 133,
   "metadata": {
    "vscode": {
     "languageId": "csharp"
    }
   },
   "outputs": [],
   "source": [
    "await Expect(page.Locator(\"#login\")).ToHaveTextAsync(\"Open\");"
   ]
  },
  {
   "cell_type": "code",
   "execution_count": 134,
   "metadata": {
    "vscode": {
     "languageId": "csharp"
    }
   },
   "outputs": [],
   "source": [
    "var popup_page = await context.RunAndWaitForPageAsync(async () => {\n",
    "  await page.ClickAsync(\"#login\");\n",
    "});"
   ]
  },
  {
   "cell_type": "code",
   "execution_count": 135,
   "metadata": {
    "vscode": {
     "languageId": "csharp"
    }
   },
   "outputs": [],
   "source": [
    "await popup_page.WaitForLoadStateAsync(LoadState.Load);"
   ]
  },
  {
   "cell_type": "code",
   "execution_count": 136,
   "metadata": {
    "vscode": {
     "languageId": "csharp"
    }
   },
   "outputs": [],
   "source": [
    "await Expect(popup_page.Locator(\"button\")).ToHaveTextAsync(\"Submit\");"
   ]
  },
  {
   "cell_type": "code",
   "execution_count": 137,
   "metadata": {
    "vscode": {
     "languageId": "csharp"
    }
   },
   "outputs": [],
   "source": [
    "assert(context.Pages.Contains(popup_page));"
   ]
  },
  {
   "cell_type": "code",
   "execution_count": 138,
   "metadata": {
    "vscode": {
     "languageId": "csharp"
    }
   },
   "outputs": [],
   "source": [
    "await popup_page.Locator(\"button\").ClickAsync();"
   ]
  },
  {
   "cell_type": "code",
   "execution_count": 139,
   "metadata": {
    "vscode": {
     "languageId": "csharp"
    }
   },
   "outputs": [],
   "source": [
    "assert(!context.Pages.Contains(popup_page));"
   ]
  },
  {
   "cell_type": "markdown",
   "metadata": {},
   "source": [
    "# I can upload a file"
   ]
  },
  {
   "cell_type": "code",
   "execution_count": 140,
   "metadata": {
    "vscode": {
     "languageId": "csharp"
    }
   },
   "outputs": [],
   "source": [
    "var myfile = \"balls.jpg\";"
   ]
  },
  {
   "cell_type": "code",
   "execution_count": 141,
   "metadata": {
    "vscode": {
     "languageId": "csharp"
    }
   },
   "outputs": [],
   "source": [
    "await page.GotoAsync(\"https://qaplayground.dev/apps/upload/\");"
   ]
  },
  {
   "cell_type": "code",
   "execution_count": 142,
   "metadata": {
    "vscode": {
     "languageId": "csharp"
    }
   },
   "outputs": [],
   "source": [
    "var sel = \"input[type='file']\";"
   ]
  },
  {
   "cell_type": "code",
   "execution_count": 143,
   "metadata": {
    "vscode": {
     "languageId": "csharp"
    }
   },
   "outputs": [],
   "source": [
    "await Expect(page.Locator(sel)).ToBeAttachedAsync();"
   ]
  },
  {
   "cell_type": "code",
   "execution_count": 144,
   "metadata": {
    "vscode": {
     "languageId": "csharp"
    }
   },
   "outputs": [],
   "source": [
    "//actually uploading the file\n",
    "await page.SetInputFilesAsync(sel, myfile);"
   ]
  },
  {
   "cell_type": "code",
   "execution_count": 145,
   "metadata": {
    "vscode": {
     "languageId": "csharp"
    }
   },
   "outputs": [],
   "source": [
    "await Expect(page.Locator(\"#num-of-files\")).ToHaveTextAsync(\"1 File Selected\");"
   ]
  },
  {
   "cell_type": "code",
   "execution_count": 146,
   "metadata": {
    "vscode": {
     "languageId": "csharp"
    }
   },
   "outputs": [],
   "source": [
    "await Expect(page.Locator(\"figcaption\")).ToHaveTextAsync(myfile);"
   ]
  },
  {
   "cell_type": "markdown",
   "metadata": {},
   "source": [
    "# I can download a file"
   ]
  },
  {
   "cell_type": "code",
   "execution_count": 147,
   "metadata": {
    "vscode": {
     "languageId": "csharp"
    }
   },
   "outputs": [],
   "source": [
    "var filename = \"sample.pdf\";"
   ]
  },
  {
   "cell_type": "code",
   "execution_count": 148,
   "metadata": {
    "vscode": {
     "languageId": "csharp"
    }
   },
   "outputs": [],
   "source": [
    "System.IO.File.Delete(filename);"
   ]
  },
  {
   "cell_type": "code",
   "execution_count": 149,
   "metadata": {
    "vscode": {
     "languageId": "csharp"
    }
   },
   "outputs": [],
   "source": [
    "bool is_pdf(string filepath) {\n",
    "  byte[] pdf_header = new byte[] { 0x25, 0x50, 0x44, 0x46, 0x2D };\n",
    "  byte[] file_header = new byte[5];\n",
    "  using(var file_stream = new System.IO.FileStream(filepath, System.IO.FileMode.Open)) {\n",
    "    file_stream.Read(file_header, 0, 5);\n",
    "  }\n",
    "\n",
    "  return pdf_header.SequenceEqual(file_header);\n",
    "}"
   ]
  },
  {
   "cell_type": "code",
   "execution_count": 150,
   "metadata": {
    "vscode": {
     "languageId": "csharp"
    }
   },
   "outputs": [],
   "source": [
    "await page.GotoAsync(\"https://qaplayground.dev/apps/download/\");\n",
    "await Expect(page.Locator(\"#file\")).ToHaveTextAsync(\"Download ⏬\");"
   ]
  },
  {
   "cell_type": "code",
   "execution_count": 151,
   "metadata": {
    "vscode": {
     "languageId": "csharp"
    }
   },
   "outputs": [],
   "source": [
    "// Use RunAndWaitForDownloadAsync to click and wait for the download\n",
    "var download = await page.RunAndWaitForDownloadAsync(async () => {\n",
    "  await page.ClickAsync(\"#file\");\n",
    "});"
   ]
  },
  {
   "cell_type": "code",
   "execution_count": 152,
   "metadata": {
    "vscode": {
     "languageId": "csharp"
    }
   },
   "outputs": [],
   "source": [
    "await download.SaveAsAsync(filename);"
   ]
  },
  {
   "cell_type": "code",
   "execution_count": 153,
   "metadata": {
    "vscode": {
     "languageId": "csharp"
    }
   },
   "outputs": [],
   "source": [
    "assert(is_pdf(filename));"
   ]
  },
  {
   "cell_type": "markdown",
   "metadata": {},
   "source": [
    "# I can set the Geolocation to custom coordinates"
   ]
  },
  {
   "cell_type": "code",
   "execution_count": 154,
   "metadata": {
    "vscode": {
     "languageId": "csharp"
    }
   },
   "outputs": [],
   "source": [
    "await page.CloseAsync();\n",
    "await context.CloseAsync();\n",
    "await browser.CloseAsync();"
   ]
  },
  {
   "cell_type": "code",
   "execution_count": 155,
   "metadata": {
    "vscode": {
     "languageId": "csharp"
    }
   },
   "outputs": [],
   "source": [
    "var browser = await playwright.Chromium.LaunchAsync(new BrowserTypeLaunchOptions { Headless = false });"
   ]
  },
  {
   "cell_type": "code",
   "execution_count": 156,
   "metadata": {
    "vscode": {
     "languageId": "csharp"
    }
   },
   "outputs": [],
   "source": [
    "//https://playwright.dev/dotnet/docs/api/class-browser#browser-new-context\n",
    "var context = await browser.NewContextAsync(new BrowserNewContextOptions { \n",
    "  ViewportSize = new ViewportSize { Width = 1920, Height = 1080 },\n",
    "  Geolocation = new Geolocation { Latitude = 37.7749f, Longitude = -122.4194f },\n",
    "  Permissions = new[] { \"geolocation\" }\n",
    "});"
   ]
  },
  {
   "cell_type": "code",
   "execution_count": 157,
   "metadata": {
    "vscode": {
     "languageId": "csharp"
    }
   },
   "outputs": [],
   "source": [
    "var page = await context.NewPageAsync();"
   ]
  },
  {
   "cell_type": "code",
   "execution_count": 158,
   "metadata": {
    "vscode": {
     "languageId": "csharp"
    }
   },
   "outputs": [],
   "source": [
    "await page.GotoAsync(\"https://qaplayground.dev/apps/geolocation/\");"
   ]
  },
  {
   "cell_type": "code",
   "execution_count": 159,
   "metadata": {
    "vscode": {
     "languageId": "csharp"
    }
   },
   "outputs": [],
   "source": [
    "await Expect(page.Locator(\"#location-info\")).ToHaveTextAsync(\"Click on the button to get your current location\");"
   ]
  },
  {
   "cell_type": "code",
   "execution_count": 160,
   "metadata": {
    "vscode": {
     "languageId": "csharp"
    }
   },
   "outputs": [],
   "source": [
    "await page.ClickAsync(\"#get-location\");"
   ]
  },
  {
   "cell_type": "code",
   "execution_count": 161,
   "metadata": {
    "vscode": {
     "languageId": "csharp"
    }
   },
   "outputs": [],
   "source": [
    "await Expect(page.Locator(\"#location-info\")).ToHaveTextAsync(\"San Francisco, United States\");"
   ]
  },
  {
   "cell_type": "markdown",
   "metadata": {},
   "source": [
    "# I can move forward and backward to pages"
   ]
  },
  {
   "cell_type": "code",
   "execution_count": 162,
   "metadata": {
    "vscode": {
     "languageId": "csharp"
    }
   },
   "outputs": [],
   "source": [
    "await page.GotoAsync(\"https://qaplayground.dev/apps/links/\");"
   ]
  },
  {
   "cell_type": "code",
   "execution_count": 163,
   "metadata": {
    "vscode": {
     "languageId": "csharp"
    }
   },
   "outputs": [],
   "source": [
    "await Expect(page.Locator(\"xpath=//* >> text='Home'\")).ToBeVisibleAsync();\n",
    "await Expect(page.Locator(\"xpath=//* >> text='Contact'\")).ToBeVisibleAsync();\n",
    "await Expect(page.Locator(\"#title\")).ToHaveCountAsync(0);"
   ]
  },
  {
   "cell_type": "code",
   "execution_count": 164,
   "metadata": {
    "vscode": {
     "languageId": "csharp"
    }
   },
   "outputs": [],
   "source": [
    "await page.ClickAsync(\"div#nav > a:nth-of-type(5)\")"
   ]
  },
  {
   "cell_type": "code",
   "execution_count": 165,
   "metadata": {
    "vscode": {
     "languageId": "csharp"
    }
   },
   "outputs": [],
   "source": [
    "await Expect(page.Locator(\"#title\")).ToHaveTextAsync(\"Welcome to the Contact Page\");\n",
    "await Expect(page.Locator(\"xpath=//* >> text='Contact'\")).Not.ToBeAttachedAsync();"
   ]
  },
  {
   "cell_type": "code",
   "execution_count": 166,
   "metadata": {
    "vscode": {
     "languageId": "csharp"
    }
   },
   "outputs": [],
   "source": [
    "await page.GoBackAsync();"
   ]
  },
  {
   "cell_type": "code",
   "execution_count": 167,
   "metadata": {
    "vscode": {
     "languageId": "csharp"
    }
   },
   "outputs": [],
   "source": [
    "await Expect(page.Locator(\"xpath=//* >> text='Home'\")).ToBeVisibleAsync();\n",
    "await Expect(page.Locator(\"xpath=//* >> text='Contact'\")).ToBeVisibleAsync();\n",
    "await Expect(page.Locator(\"#title\")).ToHaveCountAsync(0);"
   ]
  },
  {
   "cell_type": "code",
   "execution_count": 168,
   "metadata": {
    "vscode": {
     "languageId": "csharp"
    }
   },
   "outputs": [],
   "source": [
    "await page.GoForwardAsync();"
   ]
  },
  {
   "cell_type": "code",
   "execution_count": 169,
   "metadata": {
    "vscode": {
     "languageId": "csharp"
    }
   },
   "outputs": [],
   "source": [
    "await Expect(page.Locator(\"#title\")).ToHaveTextAsync(\"Welcome to the Contact Page\");\n",
    "await Expect(page.Locator(\"xpath=//* >> text='Contact'\")).Not.ToBeAttachedAsync();"
   ]
  },
  {
   "cell_type": "markdown",
   "metadata": {},
   "source": [
    "# I can get, set, clear and save Cookies of a webpage"
   ]
  },
  {
   "cell_type": "code",
   "execution_count": 170,
   "metadata": {
    "vscode": {
     "languageId": "csharp"
    }
   },
   "outputs": [],
   "source": [
    "using System.Text.Json;"
   ]
  },
  {
   "cell_type": "code",
   "execution_count": 171,
   "metadata": {
    "vscode": {
     "languageId": "csharp"
    }
   },
   "outputs": [],
   "source": [
    "var filename = \"cookies.json\";\n",
    "System.IO.File.Delete(filename);"
   ]
  },
  {
   "cell_type": "code",
   "execution_count": 172,
   "metadata": {
    "vscode": {
     "languageId": "csharp"
    }
   },
   "outputs": [],
   "source": [
    "await page.GotoAsync(\"https://www.saucedemo.com/\");"
   ]
  },
  {
   "cell_type": "code",
   "execution_count": 173,
   "metadata": {
    "vscode": {
     "languageId": "csharp"
    }
   },
   "outputs": [],
   "source": [
    "await page.Locator(\"#user-name\").FillAsync(\"standard_user\");\n",
    "await page.Locator(\"#password\").FillAsync(\"secret_sauce\");"
   ]
  },
  {
   "cell_type": "code",
   "execution_count": 174,
   "metadata": {
    "vscode": {
     "languageId": "csharp"
    }
   },
   "outputs": [],
   "source": [
    "await page.ClickAsync(\"#login-button\");"
   ]
  },
  {
   "cell_type": "code",
   "execution_count": 175,
   "metadata": {
    "vscode": {
     "languageId": "csharp"
    }
   },
   "outputs": [],
   "source": [
    "await page.WaitForURLAsync(\"https://www.saucedemo.com/inventory.html\");\n",
    "assert(page.Url == \"https://www.saucedemo.com/inventory.html\");"
   ]
  },
  {
   "cell_type": "code",
   "execution_count": 176,
   "metadata": {
    "vscode": {
     "languageId": "csharp"
    }
   },
   "outputs": [],
   "source": [
    "var title = await page.Locator(\".title\").InnerTextAsync();\n",
    "assert(title == \"Products\");"
   ]
  },
  {
   "cell_type": "code",
   "execution_count": 177,
   "metadata": {
    "vscode": {
     "languageId": "csharp"
    }
   },
   "outputs": [],
   "source": [
    "//save cookies to a file\n",
    "var cookies = await context.CookiesAsync();\n",
    "var cookiesJson = JsonSerializer.Serialize(cookies);\n",
    "await File.WriteAllTextAsync(filename, cookiesJson);\n",
    "// using(var file_stream = new System.IO.FileStream(filename, System.IO.FileMode.Create)) {\n",
    "//   await JsonSerializer.SerializeAsync(file_stream, cookies);\n",
    "// }"
   ]
  },
  {
   "cell_type": "code",
   "execution_count": 178,
   "metadata": {
    "vscode": {
     "languageId": "csharp"
    }
   },
   "outputs": [],
   "source": [
    "await context.ClearCookiesAsync();"
   ]
  },
  {
   "cell_type": "code",
   "execution_count": 179,
   "metadata": {
    "vscode": {
     "languageId": "csharp"
    }
   },
   "outputs": [],
   "source": [
    "await page.ReloadAsync();"
   ]
  },
  {
   "cell_type": "code",
   "execution_count": 180,
   "metadata": {
    "vscode": {
     "languageId": "csharp"
    }
   },
   "outputs": [],
   "source": [
    "//after reload we are not in inventory page anymore, rather we have been redirected to the login page\n",
    "await page.WaitForURLAsync(\"https://www.saucedemo.com/\");"
   ]
  },
  {
   "cell_type": "code",
   "execution_count": 181,
   "metadata": {
    "vscode": {
     "languageId": "csharp"
    }
   },
   "outputs": [],
   "source": [
    "using System.IO;"
   ]
  },
  {
   "cell_type": "code",
   "execution_count": 182,
   "metadata": {
    "vscode": {
     "languageId": "csharp"
    }
   },
   "outputs": [],
   "source": [
    "// using(var file_stream = new System.IO.FileStream(filename, System.IO.FileMode.Open)) {\n",
    "//   var cookies_loaded = await JsonSerializer.DeserializeAsync<Cookie[]>(file_stream);\n",
    "//   await context.AddCookiesAsync(cookies_loaded);\n",
    "// }"
   ]
  },
  {
   "cell_type": "code",
   "execution_count": 183,
   "metadata": {
    "vscode": {
     "languageId": "csharp"
    }
   },
   "outputs": [],
   "source": [
    "// Load cookies from the file and add them to the context\n",
    "// Load cookies from the file and add them to the context\n",
    "var loadedCookiesJson = await File.ReadAllTextAsync(\"cookies.json\");\n",
    "var loadedCookies = JsonSerializer.Deserialize<IEnumerable<Cookie>>(loadedCookiesJson);\n",
    "await context.AddCookiesAsync(loadedCookies);"
   ]
  },
  {
   "cell_type": "code",
   "execution_count": 184,
   "metadata": {
    "vscode": {
     "languageId": "csharp"
    }
   },
   "outputs": [],
   "source": [
    "await page.GotoAsync(\"https://www.saucedemo.com/inventory.html\");\n",
    "await page.WaitForURLAsync(\"https://www.saucedemo.com/inventory.html\");"
   ]
  },
  {
   "cell_type": "code",
   "execution_count": 185,
   "metadata": {
    "vscode": {
     "languageId": "csharp"
    }
   },
   "outputs": [],
   "source": [
    "var title = await page.Locator(\".title\").InnerTextAsync();\n",
    "assert(title == \"Products\");"
   ]
  },
  {
   "cell_type": "markdown",
   "metadata": {},
   "source": [
    "# END"
   ]
  },
  {
   "cell_type": "code",
   "execution_count": 186,
   "metadata": {
    "vscode": {
     "languageId": "csharp"
    }
   },
   "outputs": [],
   "source": [
    "await page.CloseAsync();\n",
    "await context.CloseAsync();\n",
    "await browser.CloseAsync();\n",
    "playwright.Dispose();"
   ]
  },
  {
   "cell_type": "markdown",
   "metadata": {},
   "source": [
    "- Playwright has built-in parallelization support, whereas Selenium requires a third-party tool.\n",
    "- Playwright executes faster than Selenium.\n",
    "- Selenium doesn't support features like detailed reporting and video recording, while Playwright provides built-in support.\n",
    "\n",
    "====\n",
    "\n",
    "- Selenium can be used in real devices and remote servers, while Playwright doesn't offer this option.\n",
    "- Selenium supports more browsers and programming languages than its opponent."
   ]
  },
  {
   "cell_type": "markdown",
   "metadata": {},
   "source": []
  }
 ],
 "metadata": {
  "kernelspec": {
   "display_name": ".NET (C#)",
   "language": "C#",
   "name": ".net-csharp"
  },
  "language_info": {
   "file_extension": ".cs",
   "mimetype": "text/x-csharp",
   "name": "C#",
   "pygments_lexer": "csharp",
   "version": "12.0"
  }
 },
 "nbformat": 4,
 "nbformat_minor": 2
}
