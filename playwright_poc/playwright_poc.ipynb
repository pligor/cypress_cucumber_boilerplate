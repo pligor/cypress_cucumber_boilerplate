{
 "cells": [
  {
   "cell_type": "code",
   "execution_count": 1,
   "metadata": {},
   "outputs": [],
   "source": [
    "%load_ext autoreload\n",
    "%autoreload 2"
   ]
  },
  {
   "cell_type": "code",
   "execution_count": 2,
   "metadata": {},
   "outputs": [],
   "source": [
    "# %pip install --upgrade -q pip\n",
    "# %pip install -q playwright\n",
    "# !playwright install"
   ]
  },
  {
   "cell_type": "code",
   "execution_count": 3,
   "metadata": {},
   "outputs": [],
   "source": [
    "# from playwright.sync_api import sync_playwright #NOT working in Jupyter notebooks\n",
    "# with sync_playwright() as p:\n",
    "#     browser = p.chromium.launch(headless=False)\n",
    "#     page = browser.new_page()\n",
    "#     # Your automation code here\n",
    "#     browser.close()"
   ]
  },
  {
   "cell_type": "code",
   "execution_count": 4,
   "metadata": {},
   "outputs": [],
   "source": [
    "import asyncio\n",
    "from playwright.async_api import async_playwright, expect"
   ]
  },
  {
   "cell_type": "code",
   "execution_count": 5,
   "metadata": {},
   "outputs": [],
   "source": [
    "import requests"
   ]
  },
  {
   "cell_type": "markdown",
   "metadata": {},
   "source": [
    "# Playwright list\n",
    "- Browser > Context > Page\n",
    "- Visit url\n",
    "- find by text\n",
    "- find by css\n",
    "- find by xpath\n",
    "- find multiple elements and count them\n",
    "- find inside an element\n",
    "- visit parent\n",
    "- visit ancestor\n",
    "- Reload page\n",
    "- get text\n",
    "- clicking\n",
    "- typing\n",
    "- mouse hover\n",
    "- right clicking with context menu\n",
    "- double clicking\n",
    "- drag n drop\n",
    "- pressing tab key\n",
    "- pressing enter key\n",
    "- submitting a form\n",
    "- selecting native dropdown\n",
    "- getting attribute\n",
    "- setting attribute\n",
    "- dismiss alert\n",
    "- confirm alert press ok\n",
    "- confirm alert press cancel\n",
    "- insert for prompt alert\n",
    "- visit an iframe\n",
    "- visit a nested iframe\n",
    "- open new tab\n",
    "- visit new tab\n",
    "- open new window\n",
    "- visit new window  \n",
    "- upload a file\n",
    "- download a file\n",
    "- set browser geolocation\n",
    "- Go back/forward on pages\n",
    "- Cookies\n",
    "\n",
    "============\n",
    "\n",
    "- return to main frame <--- Selenium only\n",
    "- return to main window <--- Selenium only\n",
    "- visit original tab <-- Selenium only"
   ]
  },
  {
   "cell_type": "markdown",
   "metadata": {},
   "source": [
    "# Configuring Viewport Size and Global Timeout"
   ]
  },
  {
   "cell_type": "code",
   "execution_count": 6,
   "metadata": {},
   "outputs": [],
   "source": [
    "pw = await async_playwright().start()\n",
    "browser = await pw.chromium.launch(headless=False)\n",
    "# page = await browser.new_page() # better exploit context than launching a new page directly\n",
    "context = await browser.new_context(\n",
    "    viewport={'width': 1920, 'height': 1080},\n",
    ")\n",
    "\n",
    "# Setting implicit global timeout\n",
    "context.set_default_timeout(5000)\n",
    "\n",
    "page = await context.new_page()"
   ]
  },
  {
   "cell_type": "markdown",
   "metadata": {},
   "source": [
    "# I visit a url"
   ]
  },
  {
   "cell_type": "code",
   "execution_count": 7,
   "metadata": {},
   "outputs": [
    {
     "data": {
      "text/plain": [
       "<Response url='https://qaplayground.dev/apps/dynamic-table/' request=<Request url='https://qaplayground.dev/apps/dynamic-table/' method='GET'>>"
      ]
     },
     "execution_count": 7,
     "metadata": {},
     "output_type": "execute_result"
    }
   ],
   "source": [
    "await page.goto('https://qaplayground.dev/apps/dynamic-table/')"
   ]
  },
  {
   "cell_type": "markdown",
   "metadata": {},
   "source": [
    "# I find elements by text and get their text\n",
    "Also compare innerText with text_content"
   ]
  },
  {
   "cell_type": "code",
   "execution_count": 8,
   "metadata": {},
   "outputs": [],
   "source": [
    "loc = page.get_by_text(text='superhero', exact=False)\n",
    "inner_text = await loc.inner_text() #how it is rendered on the website\n",
    "txt = await loc.text_content() #content from inside the html\n",
    "assert txt != inner_text\n",
    "column_name = await page.get_by_text(text='superhero', exact=False).inner_text()\n",
    "assert column_name == 'SUPERHERO'"
   ]
  },
  {
   "cell_type": "markdown",
   "metadata": {},
   "source": [
    "# I find elements by CSS selector"
   ]
  },
  {
   "cell_type": "code",
   "execution_count": 9,
   "metadata": {},
   "outputs": [],
   "source": [
    "top_title = page.locator(\"a[aria-label='full courses']\")\n",
    "await expect(top_title).to_have_text('Apps')"
   ]
  },
  {
   "cell_type": "markdown",
   "metadata": {},
   "source": [
    "# I find elements by XPath selector"
   ]
  },
  {
   "cell_type": "code",
   "execution_count": 10,
   "metadata": {},
   "outputs": [],
   "source": [
    "top_right_title = page.locator(\"//*[contains(text(), 'View Test Suite')]\")\n",
    "await expect(top_right_title).to_be_visible()"
   ]
  },
  {
   "cell_type": "markdown",
   "metadata": {},
   "source": [
    "# I find multiple elements and count them"
   ]
  },
  {
   "cell_type": "code",
   "execution_count": 11,
   "metadata": {},
   "outputs": [],
   "source": [
    "elems = page.locator('tr > td')\n",
    "assert await elems.count() == 24\n",
    "await expect(elems).to_have_count(24)"
   ]
  },
  {
   "cell_type": "markdown",
   "metadata": {},
   "source": [
    "# I find an element inside an element"
   ]
  },
  {
   "cell_type": "code",
   "execution_count": 12,
   "metadata": {},
   "outputs": [],
   "source": [
    "first_row = page.locator('thead > tr:nth-of-type(1)')\n",
    "assert await first_row.count() == 1\n",
    "second_header = first_row.locator('th:nth-of-type(2)')\n",
    "await expect(second_header).to_contain_text('Status')"
   ]
  },
  {
   "cell_type": "markdown",
   "metadata": {},
   "source": [
    "# I get parent of element"
   ]
  },
  {
   "cell_type": "code",
   "execution_count": 13,
   "metadata": {},
   "outputs": [],
   "source": [
    "superhero = page.get_by_text('Spider-Man', exact=True)\n",
    "assert await superhero.is_visible()\n",
    "parent = superhero.locator('..') #using xpath\n",
    "email = parent.get_by_text('@avengers.com')\n",
    "await expect(email).to_have_text('spider-man@avengers.com')"
   ]
  },
  {
   "cell_type": "markdown",
   "metadata": {},
   "source": [
    "# I get ancestor of element"
   ]
  },
  {
   "cell_type": "code",
   "execution_count": 14,
   "metadata": {},
   "outputs": [],
   "source": [
    "spiderman = page.get_by_text('Spider-Man', exact=True)\n",
    "spiderman_container = spiderman.locator('//ancestor::tr')\n",
    "spiderman_realname_col = spiderman_container.locator('td:nth-of-type(3)')\n",
    "assert await spiderman_realname_col.count() == 1\n",
    "assert 'Peter Parker' in await spiderman_realname_col.text_content()"
   ]
  },
  {
   "cell_type": "markdown",
   "metadata": {},
   "source": [
    "# I reload the page"
   ]
  },
  {
   "cell_type": "code",
   "execution_count": 15,
   "metadata": {},
   "outputs": [
    {
     "data": {
      "text/plain": [
       "<Response url='https://qaplayground.dev/apps/dynamic-table/' request=<Request url='https://qaplayground.dev/apps/dynamic-table/' method='GET'>>"
      ]
     },
     "execution_count": 15,
     "metadata": {},
     "output_type": "execute_result"
    }
   ],
   "source": [
    "await page.reload()"
   ]
  },
  {
   "cell_type": "markdown",
   "metadata": {},
   "source": [
    "# I can click and I can type"
   ]
  },
  {
   "cell_type": "code",
   "execution_count": 16,
   "metadata": {},
   "outputs": [],
   "source": [
    "import re\n",
    "await page.goto('https://qaplayground.dev/apps/verify-account/')\n",
    "await expect(page.locator('#title')).to_have_text('Verify Your Account')\n",
    "\n",
    "nums = [page.locator(f'.code-container input:nth-of-type({num})') for num in range(1, 6+1)]\n",
    "assert len(nums) == 6\n",
    "\n",
    "code_regex = '-'.join(['\\d'] * 6)\n",
    "code_pattern = re.compile(code_regex)\n",
    "assert code_pattern.search(' The confirmation code is 9-9-9-9-9-9 ').group() == '9-9-9-9-9-9'\n",
    "phrase = await page.locator('.info').inner_text()\n",
    "\n",
    "code_nums = code_pattern.search(phrase).group().split('-')\n",
    "assert len(code_nums) == 6\n",
    "\n",
    "for ii in range(6):\n",
    "  await nums[ii].click()\n",
    "  await nums[ii].type(code_nums[ii])\n",
    "\n",
    "await expect(page.locator('.info.success')).to_have_text('Success')"
   ]
  },
  {
   "cell_type": "markdown",
   "metadata": {},
   "source": [
    "# I can execute a real hover with the mouse"
   ]
  },
  {
   "cell_type": "code",
   "execution_count": 17,
   "metadata": {},
   "outputs": [],
   "source": [
    "await page.goto('https://qaplayground.dev/apps/mouse-hover/')\n",
    "\n",
    "await expect(page.locator('.poster')).to_be_visible()\n",
    "\n",
    "# async def get_css_property(selector, property_name):\n",
    "#     # Combine parameters into a single object and destructure them inside the JavaScript function\n",
    "#     return await page.evaluate('''({ selector, property_name }) => {\n",
    "#         const element = document.querySelector(selector);\n",
    "#         return window.getComputedStyle(element).getPropertyValue(property_name);\n",
    "#         }''', { 'selector': selector, 'property_name': property_name })\n",
    "\n",
    "target_elem = '.title-container'\n",
    "target_css_property = 'opacity'\n",
    "\n",
    "# await get_css_property(selector = target_elem, property_name = target_css_property)\n",
    "\n",
    "await expect(page.locator(target_elem)).to_have_css('opacity', '0')\n",
    "\n",
    "await page.locator('.poster').hover()\n",
    "\n",
    "await expect(page.locator(target_elem)).to_have_css('opacity', '1')"
   ]
  },
  {
   "cell_type": "markdown",
   "metadata": {},
   "source": [
    "# I can right click and interact with a context menu"
   ]
  },
  {
   "cell_type": "code",
   "execution_count": 18,
   "metadata": {},
   "outputs": [],
   "source": [
    "await page.goto('https://qaplayground.dev/apps/context-menu/')\n",
    "\n",
    "assert not await page.locator('i.uil-trash-alt').is_visible()\n",
    "\n",
    "await page.locator('#msg').click(button='right')\n",
    "\n",
    "assert await page.locator('i.uil-trash-alt').is_visible()"
   ]
  },
  {
   "cell_type": "markdown",
   "metadata": {},
   "source": [
    "# I can double click and the action to be recorded as so"
   ]
  },
  {
   "cell_type": "code",
   "execution_count": 19,
   "metadata": {},
   "outputs": [],
   "source": [
    "await page.goto('https://play1.automationcamp.ir/mouse_events.html')\n",
    "assert not await page.locator('#click_type').is_visible()\n",
    "await page.locator('#click_area').click(click_count=2)\n",
    "assert await page.locator('#click_type').is_visible()\n",
    "assert await page.locator('#click_type').text_content() == 'Double-Click'"
   ]
  },
  {
   "cell_type": "markdown",
   "metadata": {},
   "source": [
    "# I drag n drop an element on another element"
   ]
  },
  {
   "cell_type": "code",
   "execution_count": 20,
   "metadata": {},
   "outputs": [],
   "source": [
    "drop_elem = page.locator('#drop_target')\n",
    "drag_elem = page.locator('#drag_source')\n",
    "\n",
    "await expect(drop_elem).to_be_visible()\n",
    "await expect(drop_elem).to_have_text('Target')\n",
    "\n",
    "await expect(drag_elem).to_have_text('Drop me on to the green box')\n",
    "\n",
    "await page.drag_and_drop('#drag_source', '#drop_target')\n",
    "\n",
    "await expect(drop_elem).to_have_text('Drop is successful!')"
   ]
  },
  {
   "cell_type": "markdown",
   "metadata": {},
   "source": [
    "# I use tab key and enter key to fill and submit a form"
   ]
  },
  {
   "cell_type": "code",
   "execution_count": 21,
   "metadata": {},
   "outputs": [],
   "source": [
    "await page.goto('https://play1.automationcamp.ir/forms.html')\n",
    "\n",
    "await expect(page.locator('#validationCustom04')).not_to_be_focused()\n",
    "await page.focus('#validationCustom03')\n",
    "await page.locator('#validationCustom03').type('beautiful city')\n",
    "\n",
    "await page.press('#validationCustom03', 'Tab')\n",
    "await expect(page.locator('#validationCustom04')).to_be_focused()\n",
    "await page.locator('#validationCustom04').type('MaState')\n",
    "\n",
    "await expect(page.locator('#validationCustom05')).not_to_be_focused()\n",
    "await page.press('#validationCustom04', 'Tab')\n",
    "await expect(page.locator('#validationCustom05')).to_be_focused()\n",
    "\n",
    "loc = page.locator('#invalid_terms')\n",
    "await expect(loc).to_contain_text('You must agree before submitting')\n",
    "await expect(loc).not_to_be_visible()\n",
    "\n",
    "await page.locator('#validationCustom05').type('53479')\n",
    "await page.press('#validationCustom05', 'Enter')\n",
    "\n",
    "await expect(loc).to_be_visible()"
   ]
  },
  {
   "cell_type": "markdown",
   "metadata": {},
   "source": [
    "# I submit a form using native browser submit function"
   ]
  },
  {
   "cell_type": "code",
   "execution_count": 22,
   "metadata": {},
   "outputs": [],
   "source": [
    "form_loc = 'form.needs-validation'\n",
    "await page.locator(f'{form_loc} .form-check-input').check()\n",
    "await expect(page.locator('#validationCustom03')).to_have_value('beautiful city')\n",
    "await page.evaluate(f'document.querySelector(\"{form_loc}\").submit()')\n",
    "await expect(page.locator('#validationCustom03')).to_have_value('')"
   ]
  },
  {
   "cell_type": "markdown",
   "metadata": {},
   "source": [
    "# I select a native dropdown from a form"
   ]
  },
  {
   "cell_type": "code",
   "execution_count": 23,
   "metadata": {},
   "outputs": [],
   "source": [
    "loc = page.locator('#select_tool')\n",
    "assertion_loc = page.locator('#select_tool_validate')\n",
    "assert await loc.is_visible()\n",
    "assert await assertion_loc.is_hidden()\n",
    "await expect(assertion_loc).to_have_text('')\n",
    "await loc.select_option('cyp')\n",
    "assert await assertion_loc.is_visible()\n",
    "await expect(assertion_loc).to_contain_text('cyp')"
   ]
  },
  {
   "cell_type": "markdown",
   "metadata": {},
   "source": [
    "# I get and I set attributes from an html element"
   ]
  },
  {
   "cell_type": "code",
   "execution_count": 24,
   "metadata": {},
   "outputs": [],
   "source": [
    "css_sel = '#check_java'\n",
    "loc = page.locator(css_sel)\n",
    "await expect(loc).to_have_attribute('disabled', '')\n",
    "await page.evaluate(f'document.querySelector(\"{css_sel}\").removeAttribute(\"disabled\")')\n",
    "await expect(loc).not_to_have_attribute('disabled', '')\n",
    "await page.evaluate(f'document.querySelector(\"{css_sel}\").setAttribute(\"disabled\", \"true\")')\n",
    "await expect(loc).to_have_attribute('disabled', 'true')"
   ]
  },
  {
   "cell_type": "markdown",
   "metadata": {},
   "source": [
    "# I wait for the contents of a popup alert and I dismiss it"
   ]
  },
  {
   "cell_type": "code",
   "execution_count": 25,
   "metadata": {},
   "outputs": [],
   "source": [
    "await page.goto('https://play1.automationcamp.ir/expected_conditions.html')\n",
    "sel = 'button#alert_trigger'\n",
    "alert_msg = 'I am alerting you!'\n",
    "\n",
    "assert await page.locator(sel).text_content() == 'Show Alert'\n",
    "\n",
    "assert not await page.locator('#alert_handled_badge').is_visible()\n",
    "\n",
    "async with page.expect_event('dialog') as dialog_info:\n",
    "  await page.click(sel)\n",
    "  \n",
    "dialog = await dialog_info.value\n",
    "assert dialog.type == 'alert'\n",
    "assert dialog.message == alert_msg\n",
    "await dialog.accept()\n",
    "\n",
    "await page.locator('#alert_handled_badge').wait_for(state='visible')\n",
    "alert_badge = page.locator('#alert_handled_badge')\n",
    "assert 'Alert' in await alert_badge.text_content()\n",
    "assert 'handled' in await alert_badge.text_content()"
   ]
  },
  {
   "cell_type": "markdown",
   "metadata": {},
   "source": [
    "# I wait for the confirmation popup and I accept it"
   ]
  },
  {
   "cell_type": "code",
   "execution_count": 26,
   "metadata": {},
   "outputs": [],
   "source": [
    "sel = 'button#prompt_trigger'\n",
    "confirmation_msg = \"Choose wisely...\\nIt's your life!\"\n",
    "confirm_badge = '#confirm_ok_badge'\n",
    "\n",
    "await expect(page.locator(sel)).to_have_text('Show Prompt')\n",
    "\n",
    "assert not await page.locator(confirm_badge).is_visible()\n",
    "\n",
    "async with page.expect_event('dialog') as dialog_info: # we have prepared the listener but we are not blocking execution\n",
    "  await page.click(sel)\n",
    "\n",
    "dialog = await dialog_info.value\n",
    "assert dialog.type == 'confirm'\n",
    "assert dialog.message == confirmation_msg\n",
    "await dialog.accept()\n",
    "\n",
    "await expect(page.locator(confirm_badge)).to_be_visible()\n",
    "await expect(page.locator(confirm_badge)).to_contain_text('OK')"
   ]
  },
  {
   "cell_type": "markdown",
   "metadata": {},
   "source": [
    "# I wait for the confirmation popup and I reject it"
   ]
  },
  {
   "cell_type": "code",
   "execution_count": 27,
   "metadata": {},
   "outputs": [],
   "source": [
    "sel = 'button#prompt_trigger'\n",
    "confirmation_msg = \"Choose wisely...\\nIt's your life!\"\n",
    "confirm_badge = '#confirm_cancelled_badge'\n",
    "\n",
    "await page.reload()\n",
    "\n",
    "await expect(page.locator(sel)).to_have_text('Show Prompt')\n",
    "\n",
    "assert not await page.locator(confirm_badge).is_visible()\n",
    "\n",
    "async with page.expect_event('dialog') as dialog_info: # we have prepared the listener but we are not blocking execution\n",
    "  await page.click(sel)\n",
    "\n",
    "dialog = await dialog_info.value\n",
    "assert dialog.type == 'confirm'\n",
    "assert dialog.message == confirmation_msg\n",
    "await dialog.dismiss()\n",
    "\n",
    "await expect(page.locator(confirm_badge)).to_be_visible()\n",
    "await expect(page.locator(confirm_badge)).to_contain_text('Cancelled')"
   ]
  },
  {
   "cell_type": "markdown",
   "metadata": {},
   "source": [
    "# I trigger a prompt alert and pass \"geia sou\" as text TODO also did not work for Playwright\n",
    "WHICH MEANS THAT WE NEED TO FIND ANOTHER WEBSITE TO TEST THIS as it might have to do with how people are getting their info"
   ]
  },
  {
   "cell_type": "code",
   "execution_count": 28,
   "metadata": {},
   "outputs": [],
   "source": [
    "# await page.goto('https://testpages.herokuapp.com/styled/alerts/alert-test.html')\n",
    "# txt = 'geia sou'\n",
    "# html_sel = '#promptreturn'\n",
    "# button = '#promptexample'\n",
    "# prompt_msg = 'I prompt you'\n",
    "# await expect(page.locator(html_sel)).to_have_text('')\n",
    "# async with page.expect_event('dialog') as dialog_info: # we have prepared the listener but we are not blocking execution\n",
    "#   await page.click(button)\n",
    "\n",
    "# dialog = await dialog_info.value\n",
    "# assert dialog.type == 'prompt'\n",
    "# assert dialog.message == prompt_msg\n",
    "# await dialog.accept(txt)"
   ]
  },
  {
   "cell_type": "markdown",
   "metadata": {},
   "source": [
    "# I can assert inside a changing iframe"
   ]
  },
  {
   "cell_type": "code",
   "execution_count": 29,
   "metadata": {},
   "outputs": [],
   "source": [
    "await page.goto('https://qaplayground.dev/apps/changing-iframe/')\n",
    "frame_element = await page.wait_for_selector('iframe')\n",
    "frame = await frame_element.content_frame()\n",
    "elem = await frame.wait_for_selector('#msg', timeout=20000)\n",
    "await expect(frame.locator('#msg')).to_have_text('This is the end of the journey')"
   ]
  },
  {
   "cell_type": "markdown",
   "metadata": {},
   "source": [
    "# I can access a nested iframe and assert in it"
   ]
  },
  {
   "cell_type": "code",
   "execution_count": 30,
   "metadata": {},
   "outputs": [],
   "source": [
    "await page.goto('https://qaplayground.dev/apps/iframe/')\n",
    "\n",
    "await expect(page.locator('#frame1')).to_be_visible()\n",
    "\n",
    "frame_elem = await page.wait_for_selector('#frame1')\n",
    "frame = await frame_elem.content_frame()\n",
    "\n",
    "await expect(frame.locator('legend')).to_have_text('First Level Iframe')\n",
    "await expect(frame.locator('#frame2')).to_be_visible()\n",
    "\n",
    "frame2_elem = await frame.wait_for_selector('#frame2')\n",
    "inner_frame = await frame2_elem.content_frame()\n",
    "\n",
    "await expect(inner_frame.locator('legend')).to_have_text('Second Level Iframe')\n",
    "\n",
    "await expect(inner_frame.locator('#msg')).not_to_be_visible()\n",
    "await expect(inner_frame.locator('.btn')).to_be_visible()\n",
    "\n",
    "await inner_frame.locator('.btn').click()\n",
    "\n",
    "await expect(inner_frame.locator('#msg')).to_be_visible()\n",
    "await expect(inner_frame.locator('#msg')).to_have_text('Button Clicked')\n"
   ]
  },
  {
   "cell_type": "markdown",
   "metadata": {},
   "source": [
    "# I can manage new tabs"
   ]
  },
  {
   "cell_type": "code",
   "execution_count": 31,
   "metadata": {},
   "outputs": [],
   "source": [
    "await page.goto('https://qaplayground.dev/apps/new-tab/')\n",
    "async with context.expect_page() as new_page_info:\n",
    "  await page.click('#open')\n",
    "new_page = await new_page_info.value\n",
    "await new_page.wait_for_load_state()\n",
    "await expect(new_page.locator('h1')).to_be_visible()\n",
    "await expect(new_page.locator('h1')).to_have_text('Welcome to the new page!')\n",
    "await new_page.close()"
   ]
  },
  {
   "cell_type": "markdown",
   "metadata": {},
   "source": [
    "# I can manage new windows"
   ]
  },
  {
   "cell_type": "code",
   "execution_count": 32,
   "metadata": {},
   "outputs": [],
   "source": [
    "await page.goto('https://qaplayground.dev/apps/popup/')\n",
    "\n",
    "await expect(page.locator('#login')).to_have_text('Open')\n",
    "\n",
    "async with context.expect_page() as popup_info:\n",
    "  await page.locator('#login').click()\n",
    "\n",
    "popup = await popup_info.value\n",
    "await popup.wait_for_load_state()\n",
    "\n",
    "await expect(popup.locator('button')).to_have_text('Submit')\n",
    "\n",
    "assert popup in context.pages\n",
    "\n",
    "await popup.locator('button').click()\n",
    "\n",
    "assert popup not in context.pages"
   ]
  },
  {
   "cell_type": "markdown",
   "metadata": {},
   "source": [
    "# I can upload a file"
   ]
  },
  {
   "cell_type": "code",
   "execution_count": 33,
   "metadata": {},
   "outputs": [],
   "source": [
    "# import os\n",
    "# notebooks = [file for file in os.listdir() if file.endswith('.ipynb')]\n",
    "# assert len(notebooks) == 1\n",
    "# notebook = notebooks[0]\n",
    "# notebook"
   ]
  },
  {
   "cell_type": "code",
   "execution_count": 34,
   "metadata": {},
   "outputs": [],
   "source": [
    "await page.goto('https://qaplayground.dev/apps/upload/')\n",
    "await expect(page.locator('input[type=\"file\"]')).to_be_attached()\n",
    "myfile = 'balls.jpg'\n",
    "await page.set_input_files('input[type=\"file\"]', myfile) #actually uploading the file\n",
    "await expect(page.locator('#num-of-files')).to_have_text('1 File Selected')\n",
    "await expect(page.locator('figcaption')).to_have_text(myfile)"
   ]
  },
  {
   "cell_type": "markdown",
   "metadata": {},
   "source": [
    "# I can download a file"
   ]
  },
  {
   "cell_type": "code",
   "execution_count": 35,
   "metadata": {},
   "outputs": [],
   "source": [
    "await page.goto('https://qaplayground.dev/apps/download/')\n",
    "await expect(page.locator('#file')).to_have_text('Download ⏬')\n",
    "async with page.expect_download() as download_info:\n",
    "    await page.click('#file')\n",
    "\n",
    "download = await download_info.value\n",
    "path = await download.path()\n",
    "await download.save_as('sample.pdf')\n",
    "\n",
    "def is_pdf(file_path):\n",
    "    try:\n",
    "        with open(file_path, 'rb') as file:\n",
    "            header = file.read(5)\n",
    "            return header == b'%PDF-'\n",
    "    except Exception as e:\n",
    "        print(f\"An error occurred: {e}\")\n",
    "        return False\n",
    "\n",
    "assert is_pdf('sample.pdf')"
   ]
  },
  {
   "cell_type": "markdown",
   "metadata": {},
   "source": [
    "# I can set the Geolocation to custom coordinates"
   ]
  },
  {
   "cell_type": "code",
   "execution_count": 36,
   "metadata": {},
   "outputs": [],
   "source": [
    "await context.close()\n",
    "await browser.close()\n",
    "\n",
    "browser = await pw.chromium.launch(headless=False)\n",
    "context = await browser.new_context(\n",
    "    geolocation={\"latitude\": 37.7749, \"longitude\": -122.4194},\n",
    "    permissions=[\"geolocation\"]\n",
    ")\n",
    "page = await context.new_page()\n",
    "await page.goto('https://qaplayground.dev/apps/geolocation/')\n",
    "\n",
    "await expect(page.locator('#location-info')).to_have_text('Click on the button to get your current location')\n",
    "await page.click('#get-location')\n",
    "await expect(page.locator('#location-info')).to_have_text('San Francisco, United States')"
   ]
  },
  {
   "cell_type": "markdown",
   "metadata": {},
   "source": [
    "# I can move forward and backward to pages"
   ]
  },
  {
   "cell_type": "code",
   "execution_count": 37,
   "metadata": {},
   "outputs": [],
   "source": [
    "await page.goto('https://qaplayground.dev/apps/links/')\n",
    "\n",
    "await expect(page.locator('xpath=//* >> text=\"Home\"')).to_be_visible()\n",
    "await expect(page.locator('xpath=//* >> text=\"Contact\"')).to_be_visible()\n",
    "await expect(page.locator('#title')).to_have_count(0)\n",
    "\n",
    "await page.click('div#nav > a:nth-of-type(5)')\n",
    "\n",
    "await expect(page.locator('#title')).to_have_text('Welcome to the Contact Page')\n",
    "await expect(page.locator('xpath=//* >> text=\"Contact\"')).not_to_be_attached()\n",
    "\n",
    "await page.go_back()\n",
    "\n",
    "await expect(page.locator('xpath=//* >> text=\"Home\"')).to_be_visible()\n",
    "await expect(page.locator('xpath=//* >> text=\"Contact\"')).to_be_visible()\n",
    "await expect(page.locator('#title')).to_have_count(0)\n",
    "\n",
    "await page.go_forward()\n",
    "\n",
    "await expect(page.locator('#title')).to_have_text('Welcome to the Contact Page')\n",
    "await expect(page.locator('xpath=//* >> text=\"Contact\"')).not_to_be_attached()"
   ]
  },
  {
   "cell_type": "markdown",
   "metadata": {},
   "source": [
    "# I can get, set, clear and save Cookies of a webpage"
   ]
  },
  {
   "cell_type": "code",
   "execution_count": 38,
   "metadata": {},
   "outputs": [],
   "source": [
    "import json"
   ]
  },
  {
   "cell_type": "code",
   "execution_count": 39,
   "metadata": {},
   "outputs": [],
   "source": [
    "await page.goto('https://www.saucedemo.com/')\n",
    "await page.fill('#user-name', 'standard_user')\n",
    "await page.fill('#password', 'secret_sauce')\n",
    "await page.click('#login-button')\n",
    "await page.wait_for_url('https://www.saucedemo.com/inventory.html')\n",
    "assert page.url == 'https://www.saucedemo.com/inventory.html'\n",
    "title = await page.locator('.title').inner_text()\n",
    "assert title == 'Products'\n",
    "cookies = await context.cookies() # save cookies\n",
    "with open('cookies.json', 'w') as f:\n",
    "    json.dump(cookies, f)\n",
    "await context.clear_cookies()\n",
    "await page.reload()\n",
    "await page.wait_for_url('https://www.saucedemo.com/')\n",
    "assert page.url == 'https://www.saucedemo.com/'\n",
    "with open('cookies.json', 'r') as f:\n",
    "    cookies = json.load(f)\n",
    "await context.add_cookies(cookies) #load cookies\n",
    "await page.goto('https://www.saucedemo.com/inventory.html')\n",
    "await page.wait_for_url('https://www.saucedemo.com/inventory.html')\n",
    "assert page.url == 'https://www.saucedemo.com/inventory.html'\n",
    "title = await page.locator('.title').inner_text()\n",
    "assert title == 'Products'"
   ]
  },
  {
   "cell_type": "markdown",
   "metadata": {},
   "source": [
    "# END"
   ]
  },
  {
   "cell_type": "code",
   "execution_count": 40,
   "metadata": {},
   "outputs": [],
   "source": [
    "# Close the browser and Playwright\n",
    "await browser.close()\n",
    "await pw.stop()"
   ]
  },
  {
   "cell_type": "markdown",
   "metadata": {},
   "source": [
    "- Playwright has built-in parallelization support, whereas Selenium requires a third-party tool.\n",
    "- Playwright executes faster than Selenium.\n",
    "- Selenium doesn't support features like detailed reporting and video recording, while Playwright provides built-in support.\n",
    "\n",
    "====\n",
    "\n",
    "- Selenium can be used in real devices and remote servers, while Playwright doesn't offer this option.\n",
    "- Selenium supports more browsers and programming languages than its opponent."
   ]
  },
  {
   "cell_type": "markdown",
   "metadata": {},
   "source": []
  }
 ],
 "metadata": {
  "kernelspec": {
   "display_name": "whatenv",
   "language": "python",
   "name": "python3"
  },
  "language_info": {
   "codemirror_mode": {
    "name": "ipython",
    "version": 3
   },
   "file_extension": ".py",
   "mimetype": "text/x-python",
   "name": "python",
   "nbconvert_exporter": "python",
   "pygments_lexer": "ipython3",
   "version": "3.11.9"
  }
 },
 "nbformat": 4,
 "nbformat_minor": 2
}
